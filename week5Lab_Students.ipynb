{
 "cells": [
  {
   "attachments": {},
   "cell_type": "markdown",
   "metadata": {},
   "source": [
    "# **Tidying**"
   ]
  },
  {
   "attachments": {},
   "cell_type": "markdown",
   "metadata": {},
   "source": [
    "Part of the data engineering process is data cleaning and tidying. What is done in those two processes, is trying to make the data more readable, and complete. This makes much easier to analyze, visualize, and train the data.\n"
   ]
  },
  {
   "attachments": {},
   "cell_type": "markdown",
   "metadata": {},
   "source": [
    "## **Data Tidying**\n",
    "\n",
    "Making the data more organized, and readable is the result of applying data tidying. \n",
    "\n",
    "In this section two main pandas functions are used in data tidying those are `melt` and `pivot_table`."
   ]
  },
  {
   "attachments": {},
   "cell_type": "markdown",
   "metadata": {},
   "source": [
    "Let's start by taking a look at the below dataframe, which represents the income ranges based on religion. This is part of the PEW research, which is famous in the US for conducting pollings and surveys on citizens.\n",
    "\n",
    "When the following are satisfied:\n",
    "\n",
    "\n",
    "1. Each variable forms a column\n",
    "2. Each observation forms a row\n",
    "3. Each type of observational unit forms a table\n",
    "\n",
    "We can then say that our dataset is *tidy*.\n",
    "\n",
    "First we need to import pandas to read csv datasets."
   ]
  },
  {
   "cell_type": "code",
   "execution_count": 4,
   "metadata": {},
   "outputs": [],
   "source": [
    "import pandas as pd\n",
    "import numpy as np\n"
   ]
  },
  {
   "attachments": {},
   "cell_type": "markdown",
   "metadata": {},
   "source": [
    "### **PEW Research Dataset**"
   ]
  },
  {
   "attachments": {},
   "cell_type": "markdown",
   "metadata": {},
   "source": [
    "1. Start by Importing the dataset into a pandas dataframe."
   ]
  },
  {
   "attachments": {},
   "cell_type": "markdown",
   "metadata": {},
   "source": [
    "2. Observe the dataset using the `loc`, `iloc`, `head`, or `tail` approaches"
   ]
  },
  {
   "attachments": {},
   "cell_type": "markdown",
   "metadata": {},
   "source": [
    "***What does not seem right in the above dataframe?***"
   ]
  },
  {
   "attachments": {},
   "cell_type": "markdown",
   "metadata": {},
   "source": [
    "3. Try to make the column headers represent a variable not a value. For that, use the `melt` function."
   ]
  },
  {
   "cell_type": "code",
   "execution_count": null,
   "metadata": {},
   "outputs": [
    {
     "name": "stdout",
     "output_type": "stream",
     "text": [
      "\n",
      "Using loc() function:\n",
      "<pandas.core.indexing._LocIndexer object at 0x000001D3B3E1F340>\n",
      "\n",
      "Using iloc() function:\n",
      "<pandas.core.indexing._iLocIndexer object at 0x000001D3B3E1F390>\n",
      "\n",
      "Using head() function:\n",
      "   religion   <$10k   $10-20k  $20-30k  $30-40k   $40-50k  $50-75k\n",
      "0  Agnostic      27        34       60       81        76      137\n",
      "1   Atheist      12        27       37       52        35       70\n",
      "2  Buddhist      27        21       30       34        33       58\n",
      "3  Catholic     418       617      732      670       638     1116\n",
      "\n",
      "Using tail() function:\n",
      "                   religion   <$10k   $10-20k  $20-30k  $30-40k   $40-50k  \\\n",
      "7  Historically Black Prot      228       244      236      238       197   \n",
      "8         Jehovahs Witness       20        27       24       24        21   \n",
      "9                   Jewish       19        19       25       25        30   \n",
      "\n",
      "   $50-75k  \n",
      "7      223  \n",
      "8       30  \n",
      "9       95  \n",
      "\n",
      "Using melt() function:\n",
      "                    religion income_bracket  count\n",
      "0                   Agnostic          <$10k     27\n",
      "1                    Atheist          <$10k     12\n",
      "2                   Buddhist          <$10k     27\n",
      "3                   Catholic          <$10k    418\n",
      "4          Dont know/refused          <$10k     15\n",
      "5          Evangelical Prot           <$10k    575\n",
      "6                     Hindu           <$10k      1\n",
      "7   Historically Black Prot           <$10k    228\n",
      "8          Jehovahs Witness           <$10k     20\n",
      "9                    Jewish           <$10k     19\n",
      "10                  Agnostic        $10-20k     34\n",
      "11                   Atheist        $10-20k     27\n",
      "12                  Buddhist        $10-20k     21\n",
      "13                  Catholic        $10-20k    617\n",
      "14         Dont know/refused        $10-20k     14\n",
      "15         Evangelical Prot         $10-20k    869\n",
      "16                    Hindu         $10-20k      9\n",
      "17  Historically Black Prot         $10-20k    244\n",
      "18         Jehovahs Witness         $10-20k     27\n",
      "19                   Jewish         $10-20k     19\n",
      "20                  Agnostic        $20-30k     60\n",
      "21                   Atheist        $20-30k     37\n",
      "22                  Buddhist        $20-30k     30\n",
      "23                  Catholic        $20-30k    732\n",
      "24         Dont know/refused        $20-30k     15\n",
      "25         Evangelical Prot         $20-30k   1064\n",
      "26                    Hindu         $20-30k      7\n",
      "27  Historically Black Prot         $20-30k    236\n",
      "28         Jehovahs Witness         $20-30k     24\n",
      "29                   Jewish         $20-30k     25\n",
      "30                  Agnostic        $30-40k     81\n",
      "31                   Atheist        $30-40k     52\n",
      "32                  Buddhist        $30-40k     34\n",
      "33                  Catholic        $30-40k    670\n",
      "34         Dont know/refused        $30-40k     11\n",
      "35         Evangelical Prot         $30-40k    982\n",
      "36                    Hindu         $30-40k      9\n",
      "37  Historically Black Prot         $30-40k    238\n",
      "38         Jehovahs Witness         $30-40k     24\n",
      "39                   Jewish         $30-40k     25\n",
      "40                  Agnostic        $40-50k     76\n",
      "41                   Atheist        $40-50k     35\n",
      "42                  Buddhist        $40-50k     33\n",
      "43                  Catholic        $40-50k    638\n",
      "44         Dont know/refused        $40-50k     10\n",
      "45         Evangelical Prot         $40-50k    881\n",
      "46                    Hindu         $40-50k     11\n",
      "47  Historically Black Prot         $40-50k    197\n",
      "48         Jehovahs Witness         $40-50k     21\n",
      "49                   Jewish         $40-50k     30\n",
      "50                  Agnostic        $50-75k    137\n",
      "51                   Atheist        $50-75k     70\n",
      "52                  Buddhist        $50-75k     58\n",
      "53                  Catholic        $50-75k   1116\n",
      "54         Dont know/refused        $50-75k     35\n",
      "55         Evangelical Prot         $50-75k   1486\n",
      "56                    Hindu         $50-75k     34\n",
      "57  Historically Black Prot         $50-75k    223\n",
      "58         Jehovahs Witness         $50-75k     30\n",
      "59                   Jewish         $50-75k     95\n"
     ]
    }
   ],
   "source": [
    "pew_csvFile = 'data/pew-raw.csv'\n",
    "pew_dataFrame = pd.read_csv(pew_csvFile)\n",
    "\n",
    "#use of loc() function to access a group of rows and columns by labels or a boolean array\n",
    "pew_loc = pew_dataFrame.loc()\n",
    "print(\"\\nUsing loc() function:\")\n",
    "print(pew_loc)\n",
    "\n",
    "#use of iloc() function to access a group of rows and columns by integer position(s)\n",
    "pew_iloc = pew_dataFrame.iloc()\n",
    "print(\"\\nUsing iloc() function:\")\n",
    "print(pew_iloc)\n",
    "\n",
    "#use of head() function to view the first few rows of the DataFrame\n",
    "pew_head = pew_dataFrame.head(4)\n",
    "print(\"\\nUsing head() function:\")\n",
    "print(pew_head)\n",
    "\n",
    "#use of tail() function to view the last few rows of the DataFrame \n",
    "pew_tail = pew_dataFrame.tail(3)\n",
    "print(\"\\nUsing tail() function:\")\n",
    "print(pew_tail)\n",
    "\n",
    "#use of melt() function to transform the DataFrame from wide format to long format\n",
    "# pd.melt(\n",
    "#     frame,               # your DataFrame\n",
    "#     id_vars=None,        # columns to keep fixed (like identifiers)\n",
    "#     value_vars=None,     # columns to unpivot (optional)\n",
    "#     var_name=None,       # name for the new 'variable' column\n",
    "#     value_name='value'   # name for the new 'value' column\n",
    "# )\n",
    "melted = pd.melt(pew_dataFrame,\n",
    "                id_vars='religion',\n",
    "                var_name='income_bracket',\n",
    "                value_name='count')\n",
    "print(\"\\nUsing melt() function:\")\n",
    "print(melted)\n"
   ]
  },
  {
   "attachments": {},
   "cell_type": "markdown",
   "metadata": {},
   "source": [
    "### **Billboard Dataset**"
   ]
  },
  {
   "attachments": {},
   "cell_type": "markdown",
   "metadata": {},
   "source": [
    "This dataset outlines data about the top hit songs on the Billboard list and the week from entrance that it was in the billboard with the ranking."
   ]
  },
  {
   "attachments": {},
   "cell_type": "markdown",
   "metadata": {},
   "source": [
    "1. Read the dataset and store it in a pandas dataframe. Note that the usual utf-8 encoding does not work on this dataset. The reason behind this is that there might be characters that are not supported by `utf-8`.\n",
    "\n",
    "The suggestion is to use for this dataset `unicode_escape` encoding. (converts all non-ASCII characters into their \\uXXXX representations)"
   ]
  },
  {
   "cell_type": "code",
   "execution_count": null,
   "metadata": {},
   "outputs": [],
   "source": [
    "billboard_csvFile = 'data/billboard.csv'\n",
    "# file was enocoded in utf-8 format use encoding='unicode_escape' will help in handle the csv file\n",
    "# pd.read_csv(filepath_or_buffer, encoding=None, ...)\n",
    "billboard_dataFrame = pd.read_csv(billboard_csvFile, encoding='unicode_escape')"
   ]
  },
  {
   "attachments": {},
   "cell_type": "markdown",
   "metadata": {},
   "source": [
    "2. Observe the first few rows of the dataset."
   ]
  },
  {
   "cell_type": "code",
   "execution_count": null,
   "metadata": {},
   "outputs": [
    {
     "name": "stdout",
     "output_type": "stream",
     "text": [
      "   year      artist.inverted                                  track  time  \\\n",
      "0  2000      Destiny's Child               Independent Women Part I  3:38   \n",
      "1  2000              Santana                           Maria, Maria  4:18   \n",
      "2  2000        Savage Garden                     I Knew I Loved You  4:07   \n",
      "3  2000              Madonna                                  Music  3:45   \n",
      "4  2000  Aguilera, Christina  Come On Over Baby (All I Want Is You)  3:38   \n",
      "\n",
      "  genre date.entered date.peaked  x1st.week  x2nd.week  x3rd.week  ...  \\\n",
      "0  Rock   2000-09-23  2000-11-18         78       63.0       49.0  ...   \n",
      "1  Rock   2000-02-12  2000-04-08         15        8.0        6.0  ...   \n",
      "2  Rock   1999-10-23  2000-01-29         71       48.0       43.0  ...   \n",
      "3  Rock   2000-08-12  2000-09-16         41       23.0       18.0  ...   \n",
      "4  Rock   2000-08-05  2000-10-14         57       47.0       45.0  ...   \n",
      "\n",
      "   x67th.week  x68th.week  x69th.week  x70th.week  x71st.week  x72nd.week  \\\n",
      "0         NaN         NaN         NaN         NaN         NaN         NaN   \n",
      "1         NaN         NaN         NaN         NaN         NaN         NaN   \n",
      "2         NaN         NaN         NaN         NaN         NaN         NaN   \n",
      "3         NaN         NaN         NaN         NaN         NaN         NaN   \n",
      "4         NaN         NaN         NaN         NaN         NaN         NaN   \n",
      "\n",
      "   x73rd.week  x74th.week  x75th.week  x76th.week  \n",
      "0         NaN         NaN         NaN         NaN  \n",
      "1         NaN         NaN         NaN         NaN  \n",
      "2         NaN         NaN         NaN         NaN  \n",
      "3         NaN         NaN         NaN         NaN  \n",
      "4         NaN         NaN         NaN         NaN  \n",
      "\n",
      "[5 rows x 83 columns]\n"
     ]
    }
   ],
   "source": [
    "# use of head() function to view the first few rows of the DataFrame\n",
    "print(billboard_dataFrame.head(5))"
   ]
  },
  {
   "attachments": {},
   "cell_type": "markdown",
   "metadata": {},
   "source": [
    "***What is wrong with the above dataset?***"
   ]
  },
  {
   "attachments": {},
   "cell_type": "markdown",
   "metadata": {},
   "source": [
    "3. Let's, again, use the `melt` function to fix the general structure of the dataframe."
   ]
  },
  {
   "cell_type": "code",
   "execution_count": null,
   "metadata": {},
   "outputs": [
    {
     "name": "stdout",
     "output_type": "stream",
     "text": [
      "   year      artist.inverted                                  track genre  \\\n",
      "0  2000      Destiny's Child               Independent Women Part I  Rock   \n",
      "1  2000              Santana                           Maria, Maria  Rock   \n",
      "2  2000        Savage Garden                     I Knew I Loved You  Rock   \n",
      "3  2000              Madonna                                  Music  Rock   \n",
      "4  2000  Aguilera, Christina  Come On Over Baby (All I Want Is You)  Rock   \n",
      "\n",
      "  date.entered date.peaked       week  chart_position  \n",
      "0   2000-09-23  2000-11-18  x1st.week            78.0  \n",
      "1   2000-02-12  2000-04-08  x1st.week            15.0  \n",
      "2   1999-10-23  2000-01-29  x1st.week            71.0  \n",
      "3   2000-08-12  2000-09-16  x1st.week            41.0  \n",
      "4   2000-08-05  2000-10-14  x1st.week            57.0  \n"
     ]
    }
   ],
   "source": [
    "# Convert all the week columns in Week column \n",
    "weekly_cols = [col for col in billboard_dataFrame.columns if col.startswith('x') and 'week' in col]\n",
    "\n",
    "df_melted = pd.melt(billboard_dataFrame,\n",
    "                    id_vars=['year', 'artist.inverted', 'track', 'genre', 'date.entered', 'date.peaked'],\n",
    "                    value_vars=weekly_cols,\n",
    "                    var_name='week',\n",
    "                    value_name='chart_position')\n",
    "\n",
    "print(df_melted.head())"
   ]
  },
  {
   "attachments": {},
   "cell_type": "markdown",
   "metadata": {},
   "source": [
    "If we inspect the current dataframe. We find that it is structured in a better way than before. \n",
    "\n",
    "However, the ***Week*** column looks a bit ugly!\n",
    "\n",
    "4. Let's try to place only the week number in that column without the extras surronding it."
   ]
  },
  {
   "cell_type": "code",
   "execution_count": 6,
   "metadata": {},
   "outputs": [
    {
     "name": "stdout",
     "output_type": "stream",
     "text": [
      "       year      artist.inverted                                  track genre  \\\n",
      "0      2000      Destiny's Child               Independent Women Part I  Rock   \n",
      "1      2000              Santana                           Maria, Maria  Rock   \n",
      "2      2000        Savage Garden                     I Knew I Loved You  Rock   \n",
      "3      2000              Madonna                                  Music  Rock   \n",
      "4      2000  Aguilera, Christina  Come On Over Baby (All I Want Is You)  Rock   \n",
      "...     ...                  ...                                    ...   ...   \n",
      "24087  2000     Ghostface Killah                       Cherchez LaGhost   R&B   \n",
      "24088  2000          Smith, Will                            Freakin' It   Rap   \n",
      "24089  2000        Zombie Nation                          Kernkraft 400  Rock   \n",
      "24090  2000       Eastsidaz, The                               Got Beef   Rap   \n",
      "24091  2000               Fragma                         Toca's Miracle   R&B   \n",
      "\n",
      "      date.entered date.peaked  week  chart_position  \n",
      "0       2000-09-23  2000-11-18     1            78.0  \n",
      "1       2000-02-12  2000-04-08     1            15.0  \n",
      "2       1999-10-23  2000-01-29     1            71.0  \n",
      "3       2000-08-12  2000-09-16     1            41.0  \n",
      "4       2000-08-05  2000-10-14     1            57.0  \n",
      "...            ...         ...   ...             ...  \n",
      "24087   2000-08-05  2000-08-05    76             NaN  \n",
      "24088   2000-02-12  2000-02-12    76             NaN  \n",
      "24089   2000-09-02  2000-09-02    76             NaN  \n",
      "24090   2000-07-01  2000-07-01    76             NaN  \n",
      "24091   2000-10-28  2000-10-28    76             NaN  \n",
      "\n",
      "[24092 rows x 8 columns]\n"
     ]
    }
   ],
   "source": [
    "weekly_cols = [col for col in billboard_dataFrame.columns if col.startswith('x') and 'week' in col]\n",
    "\n",
    "df_melted = pd.melt(billboard_dataFrame,\n",
    "                    id_vars=['year', 'artist.inverted', 'track', 'genre', 'date.entered', 'date.peaked'],\n",
    "                    value_vars=weekly_cols,\n",
    "                    var_name='week',\n",
    "                    value_name='chart_position')\n",
    "\n",
    "# Extract numeric week number\n",
    "df_melted['week'] = df_melted['week'].str.extract(r'(\\d+)').astype(int)\n",
    "print(df_melted)"
   ]
  },
  {
   "attachments": {},
   "cell_type": "markdown",
   "metadata": {},
   "source": [
    "5. Now let's inspect the ***Week*** column in the dataframe."
   ]
  },
  {
   "attachments": {},
   "cell_type": "markdown",
   "metadata": {},
   "source": [
    "Next, let's try to find the date at which the song ranked the number that is shown per row.\n",
    "\n",
    "6. To do that let's first think of the equation that is going to get us the relevant date at which the song ranked the *rth*.\n",
    "\n"
   ]
  },
  {
   "cell_type": "code",
   "execution_count": 7,
   "metadata": {},
   "outputs": [
    {
     "data": {
      "application/vnd.microsoft.datawrangler.viewer.v0+json": {
       "columns": [
        {
         "name": "index",
         "rawType": "int64",
         "type": "integer"
        },
        {
         "name": "year",
         "rawType": "int64",
         "type": "integer"
        },
        {
         "name": "artist.inverted",
         "rawType": "object",
         "type": "string"
        },
        {
         "name": "track",
         "rawType": "object",
         "type": "string"
        },
        {
         "name": "genre",
         "rawType": "object",
         "type": "string"
        },
        {
         "name": "date.entered",
         "rawType": "datetime64[ns]",
         "type": "datetime"
        },
        {
         "name": "date.peaked",
         "rawType": "object",
         "type": "string"
        },
        {
         "name": "week",
         "rawType": "int64",
         "type": "integer"
        },
        {
         "name": "chart_position",
         "rawType": "float64",
         "type": "float"
        }
       ],
       "ref": "e4f24549-58ad-47e9-88b7-c1db44346c25",
       "rows": [
        [
         "0",
         "2000",
         "Destiny's Child",
         "Independent Women Part I",
         "Rock",
         "2000-09-23 00:00:00",
         "2000-11-18",
         "1",
         "78.0"
        ],
        [
         "1",
         "2000",
         "Santana",
         "Maria, Maria",
         "Rock",
         "2000-02-12 00:00:00",
         "2000-04-08",
         "1",
         "15.0"
        ],
        [
         "2",
         "2000",
         "Savage Garden",
         "I Knew I Loved You",
         "Rock",
         "1999-10-23 00:00:00",
         "2000-01-29",
         "1",
         "71.0"
        ],
        [
         "3",
         "2000",
         "Madonna",
         "Music",
         "Rock",
         "2000-08-12 00:00:00",
         "2000-09-16",
         "1",
         "41.0"
        ],
        [
         "4",
         "2000",
         "Aguilera, Christina",
         "Come On Over Baby (All I Want Is You)",
         "Rock",
         "2000-08-05 00:00:00",
         "2000-10-14",
         "1",
         "57.0"
        ],
        [
         "5",
         "2000",
         "Janet",
         "Doesn't Really Matter",
         "Rock",
         "2000-06-17 00:00:00",
         "2000-08-26",
         "1",
         "59.0"
        ],
        [
         "6",
         "2000",
         "Destiny's Child",
         "Say My Name",
         "Rock",
         "1999-12-25 00:00:00",
         "2000-03-18",
         "1",
         "83.0"
        ],
        [
         "7",
         "2000",
         "Iglesias, Enrique",
         "Be With You",
         "Latin",
         "2000-04-01 00:00:00",
         "2000-06-24",
         "1",
         "63.0"
        ],
        [
         "8",
         "2000",
         "Sisqo",
         "Incomplete",
         "Rock",
         "2000-06-24 00:00:00",
         "2000-08-12",
         "1",
         "77.0"
        ],
        [
         "9",
         "2000",
         "Lonestar",
         "Amazed",
         "Country",
         "1999-06-05 00:00:00",
         "2000-03-04",
         "1",
         "81.0"
        ],
        [
         "10",
         "2000",
         "N'Sync",
         "It's Gonna Be Me",
         "Rock",
         "2000-05-06 00:00:00",
         "2000-07-29",
         "1",
         "82.0"
        ],
        [
         "11",
         "2000",
         "Aguilera, Christina",
         "What A Girl Wants",
         "Rock",
         "1999-11-27 00:00:00",
         "2000-01-15",
         "1",
         "71.0"
        ],
        [
         "12",
         "2000",
         "Vertical Horizon",
         "Everything You Want",
         "Rock",
         "2000-01-22 00:00:00",
         "2000-07-15",
         "1",
         "70.0"
        ],
        [
         "13",
         "2000",
         "Creed",
         "With Arms Wide Open",
         "Rock",
         "2000-05-13 00:00:00",
         "2000-11-11",
         "1",
         "84.0"
        ],
        [
         "14",
         "2000",
         "Aaliyah",
         "Try Again",
         "Rock",
         "2000-03-18 00:00:00",
         "2000-06-17",
         "1",
         "59.0"
        ],
        [
         "15",
         "2000",
         "matchbox twenty",
         "Bent",
         "Rock",
         "2000-04-29 00:00:00",
         "2000-07-22",
         "1",
         "60.0"
        ],
        [
         "16",
         "2000",
         "Carey, Mariah",
         "Thank God I Found You",
         "Rock",
         "1999-12-11 00:00:00",
         "2000-02-19",
         "1",
         "82.0"
        ],
        [
         "17",
         "2000",
         "Hill, Faith",
         "Breathe",
         "Rap",
         "1999-11-06 00:00:00",
         "2000-04-22",
         "1",
         "81.0"
        ],
        [
         "18",
         "2000",
         "Mya",
         "Case Of The Ex (Whatcha Gonna Do)",
         "Rock",
         "2000-08-19 00:00:00",
         "2000-12-02",
         "1",
         "72.0"
        ],
        [
         "19",
         "2000",
         "Dream",
         "He Loves U Not",
         "Rock",
         "2000-09-30 00:00:00",
         "2000-12-30",
         "1",
         "99.0"
        ],
        [
         "20",
         "2000",
         "Braxton, Toni",
         "He Wasn't Man Enough",
         "Rock",
         "2000-03-18 00:00:00",
         "2000-05-06",
         "1",
         "63.0"
        ],
        [
         "21",
         "2000",
         "Anthony, Marc",
         "You Sang To Me",
         "Latin",
         "2000-02-26 00:00:00",
         "2000-06-03",
         "1",
         "77.0"
        ],
        [
         "22",
         "2000",
         "98¡",
         "Give Me Just One Night (Una Noche)",
         "Rock",
         "2000-08-19 00:00:00",
         "2000-09-30",
         "1",
         "51.0"
        ],
        [
         "23",
         "2000",
         "Destiny's Child",
         "Jumpin' Jumpin'",
         "Rock",
         "2000-05-13 00:00:00",
         "2000-08-19",
         "1",
         "74.0"
        ],
        [
         "24",
         "2000",
         "3 Doors Down",
         "Kryptonite",
         "Rock",
         "2000-04-08 00:00:00",
         "2000-11-11",
         "1",
         "81.0"
        ],
        [
         "25",
         "2000",
         "Sisqo",
         "Thong Song",
         "Rock",
         "2000-01-29 00:00:00",
         "2000-05-20",
         "1",
         "74.0"
        ],
        [
         "26",
         "2000",
         "Aguilera, Christina",
         "I Turn To You",
         "Rock",
         "2000-04-15 00:00:00",
         "2000-07-01",
         "1",
         "50.0"
        ],
        [
         "27",
         "2000",
         "Houston, Whitney",
         "My Love Is Your Love",
         "Rock",
         "1999-09-04 00:00:00",
         "2000-01-08",
         "1",
         "81.0"
        ],
        [
         "28",
         "2000",
         "Joe",
         "I Wanna Know",
         "Rock",
         "2000-01-01 00:00:00",
         "2000-07-01",
         "1",
         "94.0"
        ],
        [
         "29",
         "2000",
         "Jordan, Montell",
         "Get It On.. Tonite",
         "Rap",
         "1999-10-23 00:00:00",
         "2000-02-12",
         "1",
         "92.0"
        ],
        [
         "30",
         "2000",
         "N'Sync",
         "Bye Bye Bye",
         "Rock",
         "2000-01-29 00:00:00",
         "2000-04-15",
         "1",
         "42.0"
        ],
        [
         "31",
         "2000",
         "Eminem",
         "The Real Slim Shady",
         "Rap",
         "2000-05-06 00:00:00",
         "2000-06-24",
         "1",
         "70.0"
        ],
        [
         "32",
         "2000",
         "Pink",
         "Most Girls",
         "Rock",
         "2000-08-12 00:00:00",
         "2000-11-25",
         "1",
         "85.0"
        ],
        [
         "33",
         "2000",
         "Mumba, Samantha",
         "Gotta Tell You",
         "Rock",
         "2000-09-09 00:00:00",
         "2000-12-09",
         "1",
         "85.0"
        ],
        [
         "34",
         "2000",
         "Blaque",
         "Bring It All To Me",
         "Pop",
         "1999-10-23 00:00:00",
         "2000-01-22",
         "1",
         "73.0"
        ],
        [
         "35",
         "2000",
         "Elliott, Missy \"Misdemeanor\"",
         "Hot Boyz",
         "Rap",
         "1999-11-27 00:00:00",
         "2000-01-08",
         "1",
         "36.0"
        ],
        [
         "36",
         "2000",
         "Gray, Macy",
         "I Try",
         "Rock",
         "2000-02-19 00:00:00",
         "2000-05-20",
         "1",
         "68.0"
        ],
        [
         "37",
         "2000",
         "N'Sync",
         "This I Promise You",
         "Rock",
         "2000-09-30 00:00:00",
         "2000-12-02",
         "1",
         "68.0"
        ],
        [
         "38",
         "2000",
         "Ruff Endz",
         "No More",
         "Rock",
         "2000-07-01 00:00:00",
         "2000-09-02",
         "1",
         "76.0"
        ],
        [
         "39",
         "2000",
         "Backstreet Boys, The",
         "Show Me The Meaning Of Being Lonely",
         "Rock",
         "2000-01-01 00:00:00",
         "2000-03-18",
         "1",
         "74.0"
        ],
        [
         "40",
         "2000",
         "Nine Days",
         "Absolutely (Story Of A Girl)",
         "Rock",
         "2000-05-06 00:00:00",
         "2000-07-22",
         "1",
         "85.0"
        ],
        [
         "41",
         "2000",
         "Dion, Celine",
         "That's The Way It Is",
         "Rock",
         "1999-11-13 00:00:00",
         "2000-03-04",
         "1",
         "74.0"
        ],
        [
         "42",
         "2000",
         "Blink-182",
         "All The Small Things",
         "Rock",
         "1999-12-04 00:00:00",
         "2000-02-19",
         "1",
         "89.0"
        ],
        [
         "43",
         "2000",
         "Eiffel 65",
         "Blue (Da Ba Dee)",
         "Electronica",
         "1999-12-11 00:00:00",
         "2000-01-29",
         "1",
         "67.0"
        ],
        [
         "44",
         "2000",
         "Badu, Erkyah",
         "Bag Lady",
         "Rock",
         "2000-08-19 00:00:00",
         "2000-10-07",
         "1",
         "67.0"
        ],
        [
         "45",
         "2000",
         "Pink",
         "There U Go",
         "Rock",
         "2000-03-04 00:00:00",
         "2000-04-08",
         "1",
         "25.0"
        ],
        [
         "46",
         "2000",
         "Creed",
         "Higher",
         "Rock",
         "1999-09-11 00:00:00",
         "2000-07-22",
         "1",
         "81.0"
        ],
        [
         "47",
         "2000",
         "Nelly",
         "(Hot S**t) Country Grammar",
         "Rap",
         "2000-04-29 00:00:00",
         "2000-09-16",
         "1",
         "100.0"
        ],
        [
         "48",
         "2000",
         "Next",
         "Wifey",
         "Rock",
         "2000-05-27 00:00:00",
         "2000-09-09",
         "1",
         "85.0"
        ],
        [
         "49",
         "2000",
         "Kenny G",
         "Auld Lang Syne (The Millenium Mix)",
         "Jazz",
         "1999-12-25 00:00:00",
         "2000-01-08",
         "1",
         "89.0"
        ]
       ],
       "shape": {
        "columns": 8,
        "rows": 24092
       }
      },
      "text/html": [
       "<div>\n",
       "<style scoped>\n",
       "    .dataframe tbody tr th:only-of-type {\n",
       "        vertical-align: middle;\n",
       "    }\n",
       "\n",
       "    .dataframe tbody tr th {\n",
       "        vertical-align: top;\n",
       "    }\n",
       "\n",
       "    .dataframe thead th {\n",
       "        text-align: right;\n",
       "    }\n",
       "</style>\n",
       "<table border=\"1\" class=\"dataframe\">\n",
       "  <thead>\n",
       "    <tr style=\"text-align: right;\">\n",
       "      <th></th>\n",
       "      <th>year</th>\n",
       "      <th>artist.inverted</th>\n",
       "      <th>track</th>\n",
       "      <th>genre</th>\n",
       "      <th>date.entered</th>\n",
       "      <th>date.peaked</th>\n",
       "      <th>week</th>\n",
       "      <th>chart_position</th>\n",
       "    </tr>\n",
       "  </thead>\n",
       "  <tbody>\n",
       "    <tr>\n",
       "      <th>0</th>\n",
       "      <td>2000</td>\n",
       "      <td>Destiny's Child</td>\n",
       "      <td>Independent Women Part I</td>\n",
       "      <td>Rock</td>\n",
       "      <td>2000-09-23</td>\n",
       "      <td>2000-11-18</td>\n",
       "      <td>1</td>\n",
       "      <td>78.0</td>\n",
       "    </tr>\n",
       "    <tr>\n",
       "      <th>1</th>\n",
       "      <td>2000</td>\n",
       "      <td>Santana</td>\n",
       "      <td>Maria, Maria</td>\n",
       "      <td>Rock</td>\n",
       "      <td>2000-02-12</td>\n",
       "      <td>2000-04-08</td>\n",
       "      <td>1</td>\n",
       "      <td>15.0</td>\n",
       "    </tr>\n",
       "    <tr>\n",
       "      <th>2</th>\n",
       "      <td>2000</td>\n",
       "      <td>Savage Garden</td>\n",
       "      <td>I Knew I Loved You</td>\n",
       "      <td>Rock</td>\n",
       "      <td>1999-10-23</td>\n",
       "      <td>2000-01-29</td>\n",
       "      <td>1</td>\n",
       "      <td>71.0</td>\n",
       "    </tr>\n",
       "    <tr>\n",
       "      <th>3</th>\n",
       "      <td>2000</td>\n",
       "      <td>Madonna</td>\n",
       "      <td>Music</td>\n",
       "      <td>Rock</td>\n",
       "      <td>2000-08-12</td>\n",
       "      <td>2000-09-16</td>\n",
       "      <td>1</td>\n",
       "      <td>41.0</td>\n",
       "    </tr>\n",
       "    <tr>\n",
       "      <th>4</th>\n",
       "      <td>2000</td>\n",
       "      <td>Aguilera, Christina</td>\n",
       "      <td>Come On Over Baby (All I Want Is You)</td>\n",
       "      <td>Rock</td>\n",
       "      <td>2000-08-05</td>\n",
       "      <td>2000-10-14</td>\n",
       "      <td>1</td>\n",
       "      <td>57.0</td>\n",
       "    </tr>\n",
       "    <tr>\n",
       "      <th>...</th>\n",
       "      <td>...</td>\n",
       "      <td>...</td>\n",
       "      <td>...</td>\n",
       "      <td>...</td>\n",
       "      <td>...</td>\n",
       "      <td>...</td>\n",
       "      <td>...</td>\n",
       "      <td>...</td>\n",
       "    </tr>\n",
       "    <tr>\n",
       "      <th>24087</th>\n",
       "      <td>2000</td>\n",
       "      <td>Ghostface Killah</td>\n",
       "      <td>Cherchez LaGhost</td>\n",
       "      <td>R&amp;B</td>\n",
       "      <td>2000-08-05</td>\n",
       "      <td>2000-08-05</td>\n",
       "      <td>76</td>\n",
       "      <td>NaN</td>\n",
       "    </tr>\n",
       "    <tr>\n",
       "      <th>24088</th>\n",
       "      <td>2000</td>\n",
       "      <td>Smith, Will</td>\n",
       "      <td>Freakin' It</td>\n",
       "      <td>Rap</td>\n",
       "      <td>2000-02-12</td>\n",
       "      <td>2000-02-12</td>\n",
       "      <td>76</td>\n",
       "      <td>NaN</td>\n",
       "    </tr>\n",
       "    <tr>\n",
       "      <th>24089</th>\n",
       "      <td>2000</td>\n",
       "      <td>Zombie Nation</td>\n",
       "      <td>Kernkraft 400</td>\n",
       "      <td>Rock</td>\n",
       "      <td>2000-09-02</td>\n",
       "      <td>2000-09-02</td>\n",
       "      <td>76</td>\n",
       "      <td>NaN</td>\n",
       "    </tr>\n",
       "    <tr>\n",
       "      <th>24090</th>\n",
       "      <td>2000</td>\n",
       "      <td>Eastsidaz, The</td>\n",
       "      <td>Got Beef</td>\n",
       "      <td>Rap</td>\n",
       "      <td>2000-07-01</td>\n",
       "      <td>2000-07-01</td>\n",
       "      <td>76</td>\n",
       "      <td>NaN</td>\n",
       "    </tr>\n",
       "    <tr>\n",
       "      <th>24091</th>\n",
       "      <td>2000</td>\n",
       "      <td>Fragma</td>\n",
       "      <td>Toca's Miracle</td>\n",
       "      <td>R&amp;B</td>\n",
       "      <td>2000-10-28</td>\n",
       "      <td>2000-10-28</td>\n",
       "      <td>76</td>\n",
       "      <td>NaN</td>\n",
       "    </tr>\n",
       "  </tbody>\n",
       "</table>\n",
       "<p>24092 rows × 8 columns</p>\n",
       "</div>"
      ],
      "text/plain": [
       "       year      artist.inverted                                  track genre  \\\n",
       "0      2000      Destiny's Child               Independent Women Part I  Rock   \n",
       "1      2000              Santana                           Maria, Maria  Rock   \n",
       "2      2000        Savage Garden                     I Knew I Loved You  Rock   \n",
       "3      2000              Madonna                                  Music  Rock   \n",
       "4      2000  Aguilera, Christina  Come On Over Baby (All I Want Is You)  Rock   \n",
       "...     ...                  ...                                    ...   ...   \n",
       "24087  2000     Ghostface Killah                       Cherchez LaGhost   R&B   \n",
       "24088  2000          Smith, Will                            Freakin' It   Rap   \n",
       "24089  2000        Zombie Nation                          Kernkraft 400  Rock   \n",
       "24090  2000       Eastsidaz, The                               Got Beef   Rap   \n",
       "24091  2000               Fragma                         Toca's Miracle   R&B   \n",
       "\n",
       "      date.entered date.peaked  week  chart_position  \n",
       "0       2000-09-23  2000-11-18     1            78.0  \n",
       "1       2000-02-12  2000-04-08     1            15.0  \n",
       "2       1999-10-23  2000-01-29     1            71.0  \n",
       "3       2000-08-12  2000-09-16     1            41.0  \n",
       "4       2000-08-05  2000-10-14     1            57.0  \n",
       "...            ...         ...   ...             ...  \n",
       "24087   2000-08-05  2000-08-05    76             NaN  \n",
       "24088   2000-02-12  2000-02-12    76             NaN  \n",
       "24089   2000-09-02  2000-09-02    76             NaN  \n",
       "24090   2000-07-01  2000-07-01    76             NaN  \n",
       "24091   2000-10-28  2000-10-28    76             NaN  \n",
       "\n",
       "[24092 rows x 8 columns]"
      ]
     },
     "execution_count": 7,
     "metadata": {},
     "output_type": "execute_result"
    }
   ],
   "source": [
    "# Ensure date.entered is datetime\n",
    "df_melted['date.entered'] = pd.to_datetime(df_melted['date.entered'])\n",
    "df_melted\n"
   ]
  },
  {
   "attachments": {},
   "cell_type": "markdown",
   "metadata": {},
   "source": [
    "*Timedeltas are absolute differences in times, expressed in difference units (e.g. days, hours, minutes, seconds). This method converts an argument from a recognized timedelta format / value into a Timedelta type.*\n"
   ]
  },
  {
   "cell_type": "code",
   "execution_count": 8,
   "metadata": {},
   "outputs": [
    {
     "data": {
      "application/vnd.microsoft.datawrangler.viewer.v0+json": {
       "columns": [
        {
         "name": "index",
         "rawType": "int64",
         "type": "integer"
        },
        {
         "name": "year",
         "rawType": "int64",
         "type": "integer"
        },
        {
         "name": "artist.inverted",
         "rawType": "object",
         "type": "string"
        },
        {
         "name": "track",
         "rawType": "object",
         "type": "string"
        },
        {
         "name": "genre",
         "rawType": "object",
         "type": "string"
        },
        {
         "name": "date.entered",
         "rawType": "datetime64[ns]",
         "type": "datetime"
        },
        {
         "name": "date.peaked",
         "rawType": "object",
         "type": "string"
        },
        {
         "name": "week",
         "rawType": "int64",
         "type": "integer"
        },
        {
         "name": "chart_position",
         "rawType": "float64",
         "type": "float"
        },
        {
         "name": "chart_date",
         "rawType": "datetime64[ns]",
         "type": "datetime"
        }
       ],
       "ref": "cd811307-0583-445d-8719-3ec95abdb4f9",
       "rows": [
        [
         "0",
         "2000",
         "Destiny's Child",
         "Independent Women Part I",
         "Rock",
         "2000-09-23 00:00:00",
         "2000-11-18",
         "1",
         "78.0",
         "2000-09-23 00:00:00"
        ],
        [
         "1",
         "2000",
         "Santana",
         "Maria, Maria",
         "Rock",
         "2000-02-12 00:00:00",
         "2000-04-08",
         "1",
         "15.0",
         "2000-02-12 00:00:00"
        ],
        [
         "2",
         "2000",
         "Savage Garden",
         "I Knew I Loved You",
         "Rock",
         "1999-10-23 00:00:00",
         "2000-01-29",
         "1",
         "71.0",
         "1999-10-23 00:00:00"
        ],
        [
         "3",
         "2000",
         "Madonna",
         "Music",
         "Rock",
         "2000-08-12 00:00:00",
         "2000-09-16",
         "1",
         "41.0",
         "2000-08-12 00:00:00"
        ],
        [
         "4",
         "2000",
         "Aguilera, Christina",
         "Come On Over Baby (All I Want Is You)",
         "Rock",
         "2000-08-05 00:00:00",
         "2000-10-14",
         "1",
         "57.0",
         "2000-08-05 00:00:00"
        ],
        [
         "5",
         "2000",
         "Janet",
         "Doesn't Really Matter",
         "Rock",
         "2000-06-17 00:00:00",
         "2000-08-26",
         "1",
         "59.0",
         "2000-06-17 00:00:00"
        ],
        [
         "6",
         "2000",
         "Destiny's Child",
         "Say My Name",
         "Rock",
         "1999-12-25 00:00:00",
         "2000-03-18",
         "1",
         "83.0",
         "1999-12-25 00:00:00"
        ],
        [
         "7",
         "2000",
         "Iglesias, Enrique",
         "Be With You",
         "Latin",
         "2000-04-01 00:00:00",
         "2000-06-24",
         "1",
         "63.0",
         "2000-04-01 00:00:00"
        ],
        [
         "8",
         "2000",
         "Sisqo",
         "Incomplete",
         "Rock",
         "2000-06-24 00:00:00",
         "2000-08-12",
         "1",
         "77.0",
         "2000-06-24 00:00:00"
        ],
        [
         "9",
         "2000",
         "Lonestar",
         "Amazed",
         "Country",
         "1999-06-05 00:00:00",
         "2000-03-04",
         "1",
         "81.0",
         "1999-06-05 00:00:00"
        ],
        [
         "10",
         "2000",
         "N'Sync",
         "It's Gonna Be Me",
         "Rock",
         "2000-05-06 00:00:00",
         "2000-07-29",
         "1",
         "82.0",
         "2000-05-06 00:00:00"
        ],
        [
         "11",
         "2000",
         "Aguilera, Christina",
         "What A Girl Wants",
         "Rock",
         "1999-11-27 00:00:00",
         "2000-01-15",
         "1",
         "71.0",
         "1999-11-27 00:00:00"
        ],
        [
         "12",
         "2000",
         "Vertical Horizon",
         "Everything You Want",
         "Rock",
         "2000-01-22 00:00:00",
         "2000-07-15",
         "1",
         "70.0",
         "2000-01-22 00:00:00"
        ],
        [
         "13",
         "2000",
         "Creed",
         "With Arms Wide Open",
         "Rock",
         "2000-05-13 00:00:00",
         "2000-11-11",
         "1",
         "84.0",
         "2000-05-13 00:00:00"
        ],
        [
         "14",
         "2000",
         "Aaliyah",
         "Try Again",
         "Rock",
         "2000-03-18 00:00:00",
         "2000-06-17",
         "1",
         "59.0",
         "2000-03-18 00:00:00"
        ],
        [
         "15",
         "2000",
         "matchbox twenty",
         "Bent",
         "Rock",
         "2000-04-29 00:00:00",
         "2000-07-22",
         "1",
         "60.0",
         "2000-04-29 00:00:00"
        ],
        [
         "16",
         "2000",
         "Carey, Mariah",
         "Thank God I Found You",
         "Rock",
         "1999-12-11 00:00:00",
         "2000-02-19",
         "1",
         "82.0",
         "1999-12-11 00:00:00"
        ],
        [
         "17",
         "2000",
         "Hill, Faith",
         "Breathe",
         "Rap",
         "1999-11-06 00:00:00",
         "2000-04-22",
         "1",
         "81.0",
         "1999-11-06 00:00:00"
        ],
        [
         "18",
         "2000",
         "Mya",
         "Case Of The Ex (Whatcha Gonna Do)",
         "Rock",
         "2000-08-19 00:00:00",
         "2000-12-02",
         "1",
         "72.0",
         "2000-08-19 00:00:00"
        ],
        [
         "19",
         "2000",
         "Dream",
         "He Loves U Not",
         "Rock",
         "2000-09-30 00:00:00",
         "2000-12-30",
         "1",
         "99.0",
         "2000-09-30 00:00:00"
        ],
        [
         "20",
         "2000",
         "Braxton, Toni",
         "He Wasn't Man Enough",
         "Rock",
         "2000-03-18 00:00:00",
         "2000-05-06",
         "1",
         "63.0",
         "2000-03-18 00:00:00"
        ],
        [
         "21",
         "2000",
         "Anthony, Marc",
         "You Sang To Me",
         "Latin",
         "2000-02-26 00:00:00",
         "2000-06-03",
         "1",
         "77.0",
         "2000-02-26 00:00:00"
        ],
        [
         "22",
         "2000",
         "98¡",
         "Give Me Just One Night (Una Noche)",
         "Rock",
         "2000-08-19 00:00:00",
         "2000-09-30",
         "1",
         "51.0",
         "2000-08-19 00:00:00"
        ],
        [
         "23",
         "2000",
         "Destiny's Child",
         "Jumpin' Jumpin'",
         "Rock",
         "2000-05-13 00:00:00",
         "2000-08-19",
         "1",
         "74.0",
         "2000-05-13 00:00:00"
        ],
        [
         "24",
         "2000",
         "3 Doors Down",
         "Kryptonite",
         "Rock",
         "2000-04-08 00:00:00",
         "2000-11-11",
         "1",
         "81.0",
         "2000-04-08 00:00:00"
        ],
        [
         "25",
         "2000",
         "Sisqo",
         "Thong Song",
         "Rock",
         "2000-01-29 00:00:00",
         "2000-05-20",
         "1",
         "74.0",
         "2000-01-29 00:00:00"
        ],
        [
         "26",
         "2000",
         "Aguilera, Christina",
         "I Turn To You",
         "Rock",
         "2000-04-15 00:00:00",
         "2000-07-01",
         "1",
         "50.0",
         "2000-04-15 00:00:00"
        ],
        [
         "27",
         "2000",
         "Houston, Whitney",
         "My Love Is Your Love",
         "Rock",
         "1999-09-04 00:00:00",
         "2000-01-08",
         "1",
         "81.0",
         "1999-09-04 00:00:00"
        ],
        [
         "28",
         "2000",
         "Joe",
         "I Wanna Know",
         "Rock",
         "2000-01-01 00:00:00",
         "2000-07-01",
         "1",
         "94.0",
         "2000-01-01 00:00:00"
        ],
        [
         "29",
         "2000",
         "Jordan, Montell",
         "Get It On.. Tonite",
         "Rap",
         "1999-10-23 00:00:00",
         "2000-02-12",
         "1",
         "92.0",
         "1999-10-23 00:00:00"
        ],
        [
         "30",
         "2000",
         "N'Sync",
         "Bye Bye Bye",
         "Rock",
         "2000-01-29 00:00:00",
         "2000-04-15",
         "1",
         "42.0",
         "2000-01-29 00:00:00"
        ],
        [
         "31",
         "2000",
         "Eminem",
         "The Real Slim Shady",
         "Rap",
         "2000-05-06 00:00:00",
         "2000-06-24",
         "1",
         "70.0",
         "2000-05-06 00:00:00"
        ],
        [
         "32",
         "2000",
         "Pink",
         "Most Girls",
         "Rock",
         "2000-08-12 00:00:00",
         "2000-11-25",
         "1",
         "85.0",
         "2000-08-12 00:00:00"
        ],
        [
         "33",
         "2000",
         "Mumba, Samantha",
         "Gotta Tell You",
         "Rock",
         "2000-09-09 00:00:00",
         "2000-12-09",
         "1",
         "85.0",
         "2000-09-09 00:00:00"
        ],
        [
         "34",
         "2000",
         "Blaque",
         "Bring It All To Me",
         "Pop",
         "1999-10-23 00:00:00",
         "2000-01-22",
         "1",
         "73.0",
         "1999-10-23 00:00:00"
        ],
        [
         "35",
         "2000",
         "Elliott, Missy \"Misdemeanor\"",
         "Hot Boyz",
         "Rap",
         "1999-11-27 00:00:00",
         "2000-01-08",
         "1",
         "36.0",
         "1999-11-27 00:00:00"
        ],
        [
         "36",
         "2000",
         "Gray, Macy",
         "I Try",
         "Rock",
         "2000-02-19 00:00:00",
         "2000-05-20",
         "1",
         "68.0",
         "2000-02-19 00:00:00"
        ],
        [
         "37",
         "2000",
         "N'Sync",
         "This I Promise You",
         "Rock",
         "2000-09-30 00:00:00",
         "2000-12-02",
         "1",
         "68.0",
         "2000-09-30 00:00:00"
        ],
        [
         "38",
         "2000",
         "Ruff Endz",
         "No More",
         "Rock",
         "2000-07-01 00:00:00",
         "2000-09-02",
         "1",
         "76.0",
         "2000-07-01 00:00:00"
        ],
        [
         "39",
         "2000",
         "Backstreet Boys, The",
         "Show Me The Meaning Of Being Lonely",
         "Rock",
         "2000-01-01 00:00:00",
         "2000-03-18",
         "1",
         "74.0",
         "2000-01-01 00:00:00"
        ],
        [
         "40",
         "2000",
         "Nine Days",
         "Absolutely (Story Of A Girl)",
         "Rock",
         "2000-05-06 00:00:00",
         "2000-07-22",
         "1",
         "85.0",
         "2000-05-06 00:00:00"
        ],
        [
         "41",
         "2000",
         "Dion, Celine",
         "That's The Way It Is",
         "Rock",
         "1999-11-13 00:00:00",
         "2000-03-04",
         "1",
         "74.0",
         "1999-11-13 00:00:00"
        ],
        [
         "42",
         "2000",
         "Blink-182",
         "All The Small Things",
         "Rock",
         "1999-12-04 00:00:00",
         "2000-02-19",
         "1",
         "89.0",
         "1999-12-04 00:00:00"
        ],
        [
         "43",
         "2000",
         "Eiffel 65",
         "Blue (Da Ba Dee)",
         "Electronica",
         "1999-12-11 00:00:00",
         "2000-01-29",
         "1",
         "67.0",
         "1999-12-11 00:00:00"
        ],
        [
         "44",
         "2000",
         "Badu, Erkyah",
         "Bag Lady",
         "Rock",
         "2000-08-19 00:00:00",
         "2000-10-07",
         "1",
         "67.0",
         "2000-08-19 00:00:00"
        ],
        [
         "45",
         "2000",
         "Pink",
         "There U Go",
         "Rock",
         "2000-03-04 00:00:00",
         "2000-04-08",
         "1",
         "25.0",
         "2000-03-04 00:00:00"
        ],
        [
         "46",
         "2000",
         "Creed",
         "Higher",
         "Rock",
         "1999-09-11 00:00:00",
         "2000-07-22",
         "1",
         "81.0",
         "1999-09-11 00:00:00"
        ],
        [
         "47",
         "2000",
         "Nelly",
         "(Hot S**t) Country Grammar",
         "Rap",
         "2000-04-29 00:00:00",
         "2000-09-16",
         "1",
         "100.0",
         "2000-04-29 00:00:00"
        ],
        [
         "48",
         "2000",
         "Next",
         "Wifey",
         "Rock",
         "2000-05-27 00:00:00",
         "2000-09-09",
         "1",
         "85.0",
         "2000-05-27 00:00:00"
        ],
        [
         "49",
         "2000",
         "Kenny G",
         "Auld Lang Syne (The Millenium Mix)",
         "Jazz",
         "1999-12-25 00:00:00",
         "2000-01-08",
         "1",
         "89.0",
         "1999-12-25 00:00:00"
        ]
       ],
       "shape": {
        "columns": 9,
        "rows": 24092
       }
      },
      "text/html": [
       "<div>\n",
       "<style scoped>\n",
       "    .dataframe tbody tr th:only-of-type {\n",
       "        vertical-align: middle;\n",
       "    }\n",
       "\n",
       "    .dataframe tbody tr th {\n",
       "        vertical-align: top;\n",
       "    }\n",
       "\n",
       "    .dataframe thead th {\n",
       "        text-align: right;\n",
       "    }\n",
       "</style>\n",
       "<table border=\"1\" class=\"dataframe\">\n",
       "  <thead>\n",
       "    <tr style=\"text-align: right;\">\n",
       "      <th></th>\n",
       "      <th>year</th>\n",
       "      <th>artist.inverted</th>\n",
       "      <th>track</th>\n",
       "      <th>genre</th>\n",
       "      <th>date.entered</th>\n",
       "      <th>date.peaked</th>\n",
       "      <th>week</th>\n",
       "      <th>chart_position</th>\n",
       "      <th>chart_date</th>\n",
       "    </tr>\n",
       "  </thead>\n",
       "  <tbody>\n",
       "    <tr>\n",
       "      <th>0</th>\n",
       "      <td>2000</td>\n",
       "      <td>Destiny's Child</td>\n",
       "      <td>Independent Women Part I</td>\n",
       "      <td>Rock</td>\n",
       "      <td>2000-09-23</td>\n",
       "      <td>2000-11-18</td>\n",
       "      <td>1</td>\n",
       "      <td>78.0</td>\n",
       "      <td>2000-09-23</td>\n",
       "    </tr>\n",
       "    <tr>\n",
       "      <th>1</th>\n",
       "      <td>2000</td>\n",
       "      <td>Santana</td>\n",
       "      <td>Maria, Maria</td>\n",
       "      <td>Rock</td>\n",
       "      <td>2000-02-12</td>\n",
       "      <td>2000-04-08</td>\n",
       "      <td>1</td>\n",
       "      <td>15.0</td>\n",
       "      <td>2000-02-12</td>\n",
       "    </tr>\n",
       "    <tr>\n",
       "      <th>2</th>\n",
       "      <td>2000</td>\n",
       "      <td>Savage Garden</td>\n",
       "      <td>I Knew I Loved You</td>\n",
       "      <td>Rock</td>\n",
       "      <td>1999-10-23</td>\n",
       "      <td>2000-01-29</td>\n",
       "      <td>1</td>\n",
       "      <td>71.0</td>\n",
       "      <td>1999-10-23</td>\n",
       "    </tr>\n",
       "    <tr>\n",
       "      <th>3</th>\n",
       "      <td>2000</td>\n",
       "      <td>Madonna</td>\n",
       "      <td>Music</td>\n",
       "      <td>Rock</td>\n",
       "      <td>2000-08-12</td>\n",
       "      <td>2000-09-16</td>\n",
       "      <td>1</td>\n",
       "      <td>41.0</td>\n",
       "      <td>2000-08-12</td>\n",
       "    </tr>\n",
       "    <tr>\n",
       "      <th>4</th>\n",
       "      <td>2000</td>\n",
       "      <td>Aguilera, Christina</td>\n",
       "      <td>Come On Over Baby (All I Want Is You)</td>\n",
       "      <td>Rock</td>\n",
       "      <td>2000-08-05</td>\n",
       "      <td>2000-10-14</td>\n",
       "      <td>1</td>\n",
       "      <td>57.0</td>\n",
       "      <td>2000-08-05</td>\n",
       "    </tr>\n",
       "    <tr>\n",
       "      <th>...</th>\n",
       "      <td>...</td>\n",
       "      <td>...</td>\n",
       "      <td>...</td>\n",
       "      <td>...</td>\n",
       "      <td>...</td>\n",
       "      <td>...</td>\n",
       "      <td>...</td>\n",
       "      <td>...</td>\n",
       "      <td>...</td>\n",
       "    </tr>\n",
       "    <tr>\n",
       "      <th>24087</th>\n",
       "      <td>2000</td>\n",
       "      <td>Ghostface Killah</td>\n",
       "      <td>Cherchez LaGhost</td>\n",
       "      <td>R&amp;B</td>\n",
       "      <td>2000-08-05</td>\n",
       "      <td>2000-08-05</td>\n",
       "      <td>76</td>\n",
       "      <td>NaN</td>\n",
       "      <td>2002-01-12</td>\n",
       "    </tr>\n",
       "    <tr>\n",
       "      <th>24088</th>\n",
       "      <td>2000</td>\n",
       "      <td>Smith, Will</td>\n",
       "      <td>Freakin' It</td>\n",
       "      <td>Rap</td>\n",
       "      <td>2000-02-12</td>\n",
       "      <td>2000-02-12</td>\n",
       "      <td>76</td>\n",
       "      <td>NaN</td>\n",
       "      <td>2001-07-21</td>\n",
       "    </tr>\n",
       "    <tr>\n",
       "      <th>24089</th>\n",
       "      <td>2000</td>\n",
       "      <td>Zombie Nation</td>\n",
       "      <td>Kernkraft 400</td>\n",
       "      <td>Rock</td>\n",
       "      <td>2000-09-02</td>\n",
       "      <td>2000-09-02</td>\n",
       "      <td>76</td>\n",
       "      <td>NaN</td>\n",
       "      <td>2002-02-09</td>\n",
       "    </tr>\n",
       "    <tr>\n",
       "      <th>24090</th>\n",
       "      <td>2000</td>\n",
       "      <td>Eastsidaz, The</td>\n",
       "      <td>Got Beef</td>\n",
       "      <td>Rap</td>\n",
       "      <td>2000-07-01</td>\n",
       "      <td>2000-07-01</td>\n",
       "      <td>76</td>\n",
       "      <td>NaN</td>\n",
       "      <td>2001-12-08</td>\n",
       "    </tr>\n",
       "    <tr>\n",
       "      <th>24091</th>\n",
       "      <td>2000</td>\n",
       "      <td>Fragma</td>\n",
       "      <td>Toca's Miracle</td>\n",
       "      <td>R&amp;B</td>\n",
       "      <td>2000-10-28</td>\n",
       "      <td>2000-10-28</td>\n",
       "      <td>76</td>\n",
       "      <td>NaN</td>\n",
       "      <td>2002-04-06</td>\n",
       "    </tr>\n",
       "  </tbody>\n",
       "</table>\n",
       "<p>24092 rows × 9 columns</p>\n",
       "</div>"
      ],
      "text/plain": [
       "       year      artist.inverted                                  track genre  \\\n",
       "0      2000      Destiny's Child               Independent Women Part I  Rock   \n",
       "1      2000              Santana                           Maria, Maria  Rock   \n",
       "2      2000        Savage Garden                     I Knew I Loved You  Rock   \n",
       "3      2000              Madonna                                  Music  Rock   \n",
       "4      2000  Aguilera, Christina  Come On Over Baby (All I Want Is You)  Rock   \n",
       "...     ...                  ...                                    ...   ...   \n",
       "24087  2000     Ghostface Killah                       Cherchez LaGhost   R&B   \n",
       "24088  2000          Smith, Will                            Freakin' It   Rap   \n",
       "24089  2000        Zombie Nation                          Kernkraft 400  Rock   \n",
       "24090  2000       Eastsidaz, The                               Got Beef   Rap   \n",
       "24091  2000               Fragma                         Toca's Miracle   R&B   \n",
       "\n",
       "      date.entered date.peaked  week  chart_position chart_date  \n",
       "0       2000-09-23  2000-11-18     1            78.0 2000-09-23  \n",
       "1       2000-02-12  2000-04-08     1            15.0 2000-02-12  \n",
       "2       1999-10-23  2000-01-29     1            71.0 1999-10-23  \n",
       "3       2000-08-12  2000-09-16     1            41.0 2000-08-12  \n",
       "4       2000-08-05  2000-10-14     1            57.0 2000-08-05  \n",
       "...            ...         ...   ...             ...        ...  \n",
       "24087   2000-08-05  2000-08-05    76             NaN 2002-01-12  \n",
       "24088   2000-02-12  2000-02-12    76             NaN 2001-07-21  \n",
       "24089   2000-09-02  2000-09-02    76             NaN 2002-02-09  \n",
       "24090   2000-07-01  2000-07-01    76             NaN 2001-12-08  \n",
       "24091   2000-10-28  2000-10-28    76             NaN 2002-04-06  \n",
       "\n",
       "[24092 rows x 9 columns]"
      ]
     },
     "execution_count": 8,
     "metadata": {},
     "output_type": "execute_result"
    }
   ],
   "source": [
    "df_melted['chart_date'] = df_melted['date.entered'] + pd.to_timedelta(df_melted['week'] - 1, unit='D') * 7\n",
    "\n",
    "df_melted"
   ]
  },
  {
   "attachments": {},
   "cell_type": "markdown",
   "metadata": {},
   "source": [
    "***What is the problem with the calculation above?***"
   ]
  },
  {
   "attachments": {},
   "cell_type": "markdown",
   "metadata": {},
   "source": [
    "7. Let's only keep necessary columns"
   ]
  },
  {
   "cell_type": "code",
   "execution_count": 9,
   "metadata": {},
   "outputs": [
    {
     "data": {
      "application/vnd.microsoft.datawrangler.viewer.v0+json": {
       "columns": [
        {
         "name": "index",
         "rawType": "int64",
         "type": "integer"
        },
        {
         "name": "artist.inverted",
         "rawType": "object",
         "type": "string"
        },
        {
         "name": "track",
         "rawType": "object",
         "type": "string"
        },
        {
         "name": "genre",
         "rawType": "object",
         "type": "string"
        },
        {
         "name": "chart_position",
         "rawType": "float64",
         "type": "float"
        },
        {
         "name": "week",
         "rawType": "int64",
         "type": "integer"
        },
        {
         "name": "chart_date",
         "rawType": "datetime64[ns]",
         "type": "datetime"
        }
       ],
       "ref": "15ea1580-07a1-466c-b28e-7214c4dd4b71",
       "rows": [
        [
         "0",
         "Destiny's Child",
         "Independent Women Part I",
         "Rock",
         "78.0",
         "1",
         "2000-09-23 00:00:00"
        ],
        [
         "1",
         "Santana",
         "Maria, Maria",
         "Rock",
         "15.0",
         "1",
         "2000-02-12 00:00:00"
        ],
        [
         "2",
         "Savage Garden",
         "I Knew I Loved You",
         "Rock",
         "71.0",
         "1",
         "1999-10-23 00:00:00"
        ],
        [
         "3",
         "Madonna",
         "Music",
         "Rock",
         "41.0",
         "1",
         "2000-08-12 00:00:00"
        ],
        [
         "4",
         "Aguilera, Christina",
         "Come On Over Baby (All I Want Is You)",
         "Rock",
         "57.0",
         "1",
         "2000-08-05 00:00:00"
        ],
        [
         "5",
         "Janet",
         "Doesn't Really Matter",
         "Rock",
         "59.0",
         "1",
         "2000-06-17 00:00:00"
        ],
        [
         "6",
         "Destiny's Child",
         "Say My Name",
         "Rock",
         "83.0",
         "1",
         "1999-12-25 00:00:00"
        ],
        [
         "7",
         "Iglesias, Enrique",
         "Be With You",
         "Latin",
         "63.0",
         "1",
         "2000-04-01 00:00:00"
        ],
        [
         "8",
         "Sisqo",
         "Incomplete",
         "Rock",
         "77.0",
         "1",
         "2000-06-24 00:00:00"
        ],
        [
         "9",
         "Lonestar",
         "Amazed",
         "Country",
         "81.0",
         "1",
         "1999-06-05 00:00:00"
        ],
        [
         "10",
         "N'Sync",
         "It's Gonna Be Me",
         "Rock",
         "82.0",
         "1",
         "2000-05-06 00:00:00"
        ],
        [
         "11",
         "Aguilera, Christina",
         "What A Girl Wants",
         "Rock",
         "71.0",
         "1",
         "1999-11-27 00:00:00"
        ],
        [
         "12",
         "Vertical Horizon",
         "Everything You Want",
         "Rock",
         "70.0",
         "1",
         "2000-01-22 00:00:00"
        ],
        [
         "13",
         "Creed",
         "With Arms Wide Open",
         "Rock",
         "84.0",
         "1",
         "2000-05-13 00:00:00"
        ],
        [
         "14",
         "Aaliyah",
         "Try Again",
         "Rock",
         "59.0",
         "1",
         "2000-03-18 00:00:00"
        ],
        [
         "15",
         "matchbox twenty",
         "Bent",
         "Rock",
         "60.0",
         "1",
         "2000-04-29 00:00:00"
        ],
        [
         "16",
         "Carey, Mariah",
         "Thank God I Found You",
         "Rock",
         "82.0",
         "1",
         "1999-12-11 00:00:00"
        ],
        [
         "17",
         "Hill, Faith",
         "Breathe",
         "Rap",
         "81.0",
         "1",
         "1999-11-06 00:00:00"
        ],
        [
         "18",
         "Mya",
         "Case Of The Ex (Whatcha Gonna Do)",
         "Rock",
         "72.0",
         "1",
         "2000-08-19 00:00:00"
        ],
        [
         "19",
         "Dream",
         "He Loves U Not",
         "Rock",
         "99.0",
         "1",
         "2000-09-30 00:00:00"
        ],
        [
         "20",
         "Braxton, Toni",
         "He Wasn't Man Enough",
         "Rock",
         "63.0",
         "1",
         "2000-03-18 00:00:00"
        ],
        [
         "21",
         "Anthony, Marc",
         "You Sang To Me",
         "Latin",
         "77.0",
         "1",
         "2000-02-26 00:00:00"
        ],
        [
         "22",
         "98¡",
         "Give Me Just One Night (Una Noche)",
         "Rock",
         "51.0",
         "1",
         "2000-08-19 00:00:00"
        ],
        [
         "23",
         "Destiny's Child",
         "Jumpin' Jumpin'",
         "Rock",
         "74.0",
         "1",
         "2000-05-13 00:00:00"
        ],
        [
         "24",
         "3 Doors Down",
         "Kryptonite",
         "Rock",
         "81.0",
         "1",
         "2000-04-08 00:00:00"
        ],
        [
         "25",
         "Sisqo",
         "Thong Song",
         "Rock",
         "74.0",
         "1",
         "2000-01-29 00:00:00"
        ],
        [
         "26",
         "Aguilera, Christina",
         "I Turn To You",
         "Rock",
         "50.0",
         "1",
         "2000-04-15 00:00:00"
        ],
        [
         "27",
         "Houston, Whitney",
         "My Love Is Your Love",
         "Rock",
         "81.0",
         "1",
         "1999-09-04 00:00:00"
        ],
        [
         "28",
         "Joe",
         "I Wanna Know",
         "Rock",
         "94.0",
         "1",
         "2000-01-01 00:00:00"
        ],
        [
         "29",
         "Jordan, Montell",
         "Get It On.. Tonite",
         "Rap",
         "92.0",
         "1",
         "1999-10-23 00:00:00"
        ],
        [
         "30",
         "N'Sync",
         "Bye Bye Bye",
         "Rock",
         "42.0",
         "1",
         "2000-01-29 00:00:00"
        ],
        [
         "31",
         "Eminem",
         "The Real Slim Shady",
         "Rap",
         "70.0",
         "1",
         "2000-05-06 00:00:00"
        ],
        [
         "32",
         "Pink",
         "Most Girls",
         "Rock",
         "85.0",
         "1",
         "2000-08-12 00:00:00"
        ],
        [
         "33",
         "Mumba, Samantha",
         "Gotta Tell You",
         "Rock",
         "85.0",
         "1",
         "2000-09-09 00:00:00"
        ],
        [
         "34",
         "Blaque",
         "Bring It All To Me",
         "Pop",
         "73.0",
         "1",
         "1999-10-23 00:00:00"
        ],
        [
         "35",
         "Elliott, Missy \"Misdemeanor\"",
         "Hot Boyz",
         "Rap",
         "36.0",
         "1",
         "1999-11-27 00:00:00"
        ],
        [
         "36",
         "Gray, Macy",
         "I Try",
         "Rock",
         "68.0",
         "1",
         "2000-02-19 00:00:00"
        ],
        [
         "37",
         "N'Sync",
         "This I Promise You",
         "Rock",
         "68.0",
         "1",
         "2000-09-30 00:00:00"
        ],
        [
         "38",
         "Ruff Endz",
         "No More",
         "Rock",
         "76.0",
         "1",
         "2000-07-01 00:00:00"
        ],
        [
         "39",
         "Backstreet Boys, The",
         "Show Me The Meaning Of Being Lonely",
         "Rock",
         "74.0",
         "1",
         "2000-01-01 00:00:00"
        ],
        [
         "40",
         "Nine Days",
         "Absolutely (Story Of A Girl)",
         "Rock",
         "85.0",
         "1",
         "2000-05-06 00:00:00"
        ],
        [
         "41",
         "Dion, Celine",
         "That's The Way It Is",
         "Rock",
         "74.0",
         "1",
         "1999-11-13 00:00:00"
        ],
        [
         "42",
         "Blink-182",
         "All The Small Things",
         "Rock",
         "89.0",
         "1",
         "1999-12-04 00:00:00"
        ],
        [
         "43",
         "Eiffel 65",
         "Blue (Da Ba Dee)",
         "Electronica",
         "67.0",
         "1",
         "1999-12-11 00:00:00"
        ],
        [
         "44",
         "Badu, Erkyah",
         "Bag Lady",
         "Rock",
         "67.0",
         "1",
         "2000-08-19 00:00:00"
        ],
        [
         "45",
         "Pink",
         "There U Go",
         "Rock",
         "25.0",
         "1",
         "2000-03-04 00:00:00"
        ],
        [
         "46",
         "Creed",
         "Higher",
         "Rock",
         "81.0",
         "1",
         "1999-09-11 00:00:00"
        ],
        [
         "47",
         "Nelly",
         "(Hot S**t) Country Grammar",
         "Rap",
         "100.0",
         "1",
         "2000-04-29 00:00:00"
        ],
        [
         "48",
         "Next",
         "Wifey",
         "Rock",
         "85.0",
         "1",
         "2000-05-27 00:00:00"
        ],
        [
         "49",
         "Kenny G",
         "Auld Lang Syne (The Millenium Mix)",
         "Jazz",
         "89.0",
         "1",
         "1999-12-25 00:00:00"
        ]
       ],
       "shape": {
        "columns": 6,
        "rows": 24092
       }
      },
      "text/html": [
       "<div>\n",
       "<style scoped>\n",
       "    .dataframe tbody tr th:only-of-type {\n",
       "        vertical-align: middle;\n",
       "    }\n",
       "\n",
       "    .dataframe tbody tr th {\n",
       "        vertical-align: top;\n",
       "    }\n",
       "\n",
       "    .dataframe thead th {\n",
       "        text-align: right;\n",
       "    }\n",
       "</style>\n",
       "<table border=\"1\" class=\"dataframe\">\n",
       "  <thead>\n",
       "    <tr style=\"text-align: right;\">\n",
       "      <th></th>\n",
       "      <th>artist.inverted</th>\n",
       "      <th>track</th>\n",
       "      <th>genre</th>\n",
       "      <th>chart_position</th>\n",
       "      <th>week</th>\n",
       "      <th>chart_date</th>\n",
       "    </tr>\n",
       "  </thead>\n",
       "  <tbody>\n",
       "    <tr>\n",
       "      <th>0</th>\n",
       "      <td>Destiny's Child</td>\n",
       "      <td>Independent Women Part I</td>\n",
       "      <td>Rock</td>\n",
       "      <td>78.0</td>\n",
       "      <td>1</td>\n",
       "      <td>2000-09-23</td>\n",
       "    </tr>\n",
       "    <tr>\n",
       "      <th>1</th>\n",
       "      <td>Santana</td>\n",
       "      <td>Maria, Maria</td>\n",
       "      <td>Rock</td>\n",
       "      <td>15.0</td>\n",
       "      <td>1</td>\n",
       "      <td>2000-02-12</td>\n",
       "    </tr>\n",
       "    <tr>\n",
       "      <th>2</th>\n",
       "      <td>Savage Garden</td>\n",
       "      <td>I Knew I Loved You</td>\n",
       "      <td>Rock</td>\n",
       "      <td>71.0</td>\n",
       "      <td>1</td>\n",
       "      <td>1999-10-23</td>\n",
       "    </tr>\n",
       "    <tr>\n",
       "      <th>3</th>\n",
       "      <td>Madonna</td>\n",
       "      <td>Music</td>\n",
       "      <td>Rock</td>\n",
       "      <td>41.0</td>\n",
       "      <td>1</td>\n",
       "      <td>2000-08-12</td>\n",
       "    </tr>\n",
       "    <tr>\n",
       "      <th>4</th>\n",
       "      <td>Aguilera, Christina</td>\n",
       "      <td>Come On Over Baby (All I Want Is You)</td>\n",
       "      <td>Rock</td>\n",
       "      <td>57.0</td>\n",
       "      <td>1</td>\n",
       "      <td>2000-08-05</td>\n",
       "    </tr>\n",
       "    <tr>\n",
       "      <th>...</th>\n",
       "      <td>...</td>\n",
       "      <td>...</td>\n",
       "      <td>...</td>\n",
       "      <td>...</td>\n",
       "      <td>...</td>\n",
       "      <td>...</td>\n",
       "    </tr>\n",
       "    <tr>\n",
       "      <th>24087</th>\n",
       "      <td>Ghostface Killah</td>\n",
       "      <td>Cherchez LaGhost</td>\n",
       "      <td>R&amp;B</td>\n",
       "      <td>NaN</td>\n",
       "      <td>76</td>\n",
       "      <td>2002-01-12</td>\n",
       "    </tr>\n",
       "    <tr>\n",
       "      <th>24088</th>\n",
       "      <td>Smith, Will</td>\n",
       "      <td>Freakin' It</td>\n",
       "      <td>Rap</td>\n",
       "      <td>NaN</td>\n",
       "      <td>76</td>\n",
       "      <td>2001-07-21</td>\n",
       "    </tr>\n",
       "    <tr>\n",
       "      <th>24089</th>\n",
       "      <td>Zombie Nation</td>\n",
       "      <td>Kernkraft 400</td>\n",
       "      <td>Rock</td>\n",
       "      <td>NaN</td>\n",
       "      <td>76</td>\n",
       "      <td>2002-02-09</td>\n",
       "    </tr>\n",
       "    <tr>\n",
       "      <th>24090</th>\n",
       "      <td>Eastsidaz, The</td>\n",
       "      <td>Got Beef</td>\n",
       "      <td>Rap</td>\n",
       "      <td>NaN</td>\n",
       "      <td>76</td>\n",
       "      <td>2001-12-08</td>\n",
       "    </tr>\n",
       "    <tr>\n",
       "      <th>24091</th>\n",
       "      <td>Fragma</td>\n",
       "      <td>Toca's Miracle</td>\n",
       "      <td>R&amp;B</td>\n",
       "      <td>NaN</td>\n",
       "      <td>76</td>\n",
       "      <td>2002-04-06</td>\n",
       "    </tr>\n",
       "  </tbody>\n",
       "</table>\n",
       "<p>24092 rows × 6 columns</p>\n",
       "</div>"
      ],
      "text/plain": [
       "           artist.inverted                                  track genre  \\\n",
       "0          Destiny's Child               Independent Women Part I  Rock   \n",
       "1                  Santana                           Maria, Maria  Rock   \n",
       "2            Savage Garden                     I Knew I Loved You  Rock   \n",
       "3                  Madonna                                  Music  Rock   \n",
       "4      Aguilera, Christina  Come On Over Baby (All I Want Is You)  Rock   \n",
       "...                    ...                                    ...   ...   \n",
       "24087     Ghostface Killah                       Cherchez LaGhost   R&B   \n",
       "24088          Smith, Will                            Freakin' It   Rap   \n",
       "24089        Zombie Nation                          Kernkraft 400  Rock   \n",
       "24090       Eastsidaz, The                               Got Beef   Rap   \n",
       "24091               Fragma                         Toca's Miracle   R&B   \n",
       "\n",
       "       chart_position  week chart_date  \n",
       "0                78.0     1 2000-09-23  \n",
       "1                15.0     1 2000-02-12  \n",
       "2                71.0     1 1999-10-23  \n",
       "3                41.0     1 2000-08-12  \n",
       "4                57.0     1 2000-08-05  \n",
       "...               ...   ...        ...  \n",
       "24087             NaN    76 2002-01-12  \n",
       "24088             NaN    76 2001-07-21  \n",
       "24089             NaN    76 2002-02-09  \n",
       "24090             NaN    76 2001-12-08  \n",
       "24091             NaN    76 2002-04-06  \n",
       "\n",
       "[24092 rows x 6 columns]"
      ]
     },
     "execution_count": 9,
     "metadata": {},
     "output_type": "execute_result"
    }
   ],
   "source": [
    "df_final = df_melted[[\n",
    "    'artist.inverted',\n",
    "    'track',\n",
    "    'genre',\n",
    "    'chart_position',\n",
    "    'week',\n",
    "    'chart_date'\n",
    "]]\n",
    "\n",
    "df_final"
   ]
  },
  {
   "attachments": {},
   "cell_type": "markdown",
   "metadata": {},
   "source": [
    "8. How to rename your columns?"
   ]
  },
  {
   "cell_type": "code",
   "execution_count": 10,
   "metadata": {},
   "outputs": [
    {
     "data": {
      "application/vnd.microsoft.datawrangler.viewer.v0+json": {
       "columns": [
        {
         "name": "index",
         "rawType": "int64",
         "type": "integer"
        },
        {
         "name": "artist",
         "rawType": "object",
         "type": "string"
        },
        {
         "name": "title",
         "rawType": "object",
         "type": "string"
        },
        {
         "name": "genre",
         "rawType": "object",
         "type": "string"
        },
        {
         "name": "rank",
         "rawType": "float64",
         "type": "float"
        },
        {
         "name": "week_number",
         "rawType": "int64",
         "type": "integer"
        },
        {
         "name": "date",
         "rawType": "datetime64[ns]",
         "type": "datetime"
        }
       ],
       "ref": "d485a729-408b-4e47-a017-f024a050b870",
       "rows": [
        [
         "0",
         "Destiny's Child",
         "Independent Women Part I",
         "Rock",
         "78.0",
         "1",
         "2000-09-23 00:00:00"
        ],
        [
         "1",
         "Santana",
         "Maria, Maria",
         "Rock",
         "15.0",
         "1",
         "2000-02-12 00:00:00"
        ],
        [
         "2",
         "Savage Garden",
         "I Knew I Loved You",
         "Rock",
         "71.0",
         "1",
         "1999-10-23 00:00:00"
        ],
        [
         "3",
         "Madonna",
         "Music",
         "Rock",
         "41.0",
         "1",
         "2000-08-12 00:00:00"
        ],
        [
         "4",
         "Aguilera, Christina",
         "Come On Over Baby (All I Want Is You)",
         "Rock",
         "57.0",
         "1",
         "2000-08-05 00:00:00"
        ],
        [
         "5",
         "Janet",
         "Doesn't Really Matter",
         "Rock",
         "59.0",
         "1",
         "2000-06-17 00:00:00"
        ],
        [
         "6",
         "Destiny's Child",
         "Say My Name",
         "Rock",
         "83.0",
         "1",
         "1999-12-25 00:00:00"
        ],
        [
         "7",
         "Iglesias, Enrique",
         "Be With You",
         "Latin",
         "63.0",
         "1",
         "2000-04-01 00:00:00"
        ],
        [
         "8",
         "Sisqo",
         "Incomplete",
         "Rock",
         "77.0",
         "1",
         "2000-06-24 00:00:00"
        ],
        [
         "9",
         "Lonestar",
         "Amazed",
         "Country",
         "81.0",
         "1",
         "1999-06-05 00:00:00"
        ],
        [
         "10",
         "N'Sync",
         "It's Gonna Be Me",
         "Rock",
         "82.0",
         "1",
         "2000-05-06 00:00:00"
        ],
        [
         "11",
         "Aguilera, Christina",
         "What A Girl Wants",
         "Rock",
         "71.0",
         "1",
         "1999-11-27 00:00:00"
        ],
        [
         "12",
         "Vertical Horizon",
         "Everything You Want",
         "Rock",
         "70.0",
         "1",
         "2000-01-22 00:00:00"
        ],
        [
         "13",
         "Creed",
         "With Arms Wide Open",
         "Rock",
         "84.0",
         "1",
         "2000-05-13 00:00:00"
        ],
        [
         "14",
         "Aaliyah",
         "Try Again",
         "Rock",
         "59.0",
         "1",
         "2000-03-18 00:00:00"
        ],
        [
         "15",
         "matchbox twenty",
         "Bent",
         "Rock",
         "60.0",
         "1",
         "2000-04-29 00:00:00"
        ],
        [
         "16",
         "Carey, Mariah",
         "Thank God I Found You",
         "Rock",
         "82.0",
         "1",
         "1999-12-11 00:00:00"
        ],
        [
         "17",
         "Hill, Faith",
         "Breathe",
         "Rap",
         "81.0",
         "1",
         "1999-11-06 00:00:00"
        ],
        [
         "18",
         "Mya",
         "Case Of The Ex (Whatcha Gonna Do)",
         "Rock",
         "72.0",
         "1",
         "2000-08-19 00:00:00"
        ],
        [
         "19",
         "Dream",
         "He Loves U Not",
         "Rock",
         "99.0",
         "1",
         "2000-09-30 00:00:00"
        ],
        [
         "20",
         "Braxton, Toni",
         "He Wasn't Man Enough",
         "Rock",
         "63.0",
         "1",
         "2000-03-18 00:00:00"
        ],
        [
         "21",
         "Anthony, Marc",
         "You Sang To Me",
         "Latin",
         "77.0",
         "1",
         "2000-02-26 00:00:00"
        ],
        [
         "22",
         "98¡",
         "Give Me Just One Night (Una Noche)",
         "Rock",
         "51.0",
         "1",
         "2000-08-19 00:00:00"
        ],
        [
         "23",
         "Destiny's Child",
         "Jumpin' Jumpin'",
         "Rock",
         "74.0",
         "1",
         "2000-05-13 00:00:00"
        ],
        [
         "24",
         "3 Doors Down",
         "Kryptonite",
         "Rock",
         "81.0",
         "1",
         "2000-04-08 00:00:00"
        ],
        [
         "25",
         "Sisqo",
         "Thong Song",
         "Rock",
         "74.0",
         "1",
         "2000-01-29 00:00:00"
        ],
        [
         "26",
         "Aguilera, Christina",
         "I Turn To You",
         "Rock",
         "50.0",
         "1",
         "2000-04-15 00:00:00"
        ],
        [
         "27",
         "Houston, Whitney",
         "My Love Is Your Love",
         "Rock",
         "81.0",
         "1",
         "1999-09-04 00:00:00"
        ],
        [
         "28",
         "Joe",
         "I Wanna Know",
         "Rock",
         "94.0",
         "1",
         "2000-01-01 00:00:00"
        ],
        [
         "29",
         "Jordan, Montell",
         "Get It On.. Tonite",
         "Rap",
         "92.0",
         "1",
         "1999-10-23 00:00:00"
        ],
        [
         "30",
         "N'Sync",
         "Bye Bye Bye",
         "Rock",
         "42.0",
         "1",
         "2000-01-29 00:00:00"
        ],
        [
         "31",
         "Eminem",
         "The Real Slim Shady",
         "Rap",
         "70.0",
         "1",
         "2000-05-06 00:00:00"
        ],
        [
         "32",
         "Pink",
         "Most Girls",
         "Rock",
         "85.0",
         "1",
         "2000-08-12 00:00:00"
        ],
        [
         "33",
         "Mumba, Samantha",
         "Gotta Tell You",
         "Rock",
         "85.0",
         "1",
         "2000-09-09 00:00:00"
        ],
        [
         "34",
         "Blaque",
         "Bring It All To Me",
         "Pop",
         "73.0",
         "1",
         "1999-10-23 00:00:00"
        ],
        [
         "35",
         "Elliott, Missy \"Misdemeanor\"",
         "Hot Boyz",
         "Rap",
         "36.0",
         "1",
         "1999-11-27 00:00:00"
        ],
        [
         "36",
         "Gray, Macy",
         "I Try",
         "Rock",
         "68.0",
         "1",
         "2000-02-19 00:00:00"
        ],
        [
         "37",
         "N'Sync",
         "This I Promise You",
         "Rock",
         "68.0",
         "1",
         "2000-09-30 00:00:00"
        ],
        [
         "38",
         "Ruff Endz",
         "No More",
         "Rock",
         "76.0",
         "1",
         "2000-07-01 00:00:00"
        ],
        [
         "39",
         "Backstreet Boys, The",
         "Show Me The Meaning Of Being Lonely",
         "Rock",
         "74.0",
         "1",
         "2000-01-01 00:00:00"
        ],
        [
         "40",
         "Nine Days",
         "Absolutely (Story Of A Girl)",
         "Rock",
         "85.0",
         "1",
         "2000-05-06 00:00:00"
        ],
        [
         "41",
         "Dion, Celine",
         "That's The Way It Is",
         "Rock",
         "74.0",
         "1",
         "1999-11-13 00:00:00"
        ],
        [
         "42",
         "Blink-182",
         "All The Small Things",
         "Rock",
         "89.0",
         "1",
         "1999-12-04 00:00:00"
        ],
        [
         "43",
         "Eiffel 65",
         "Blue (Da Ba Dee)",
         "Electronica",
         "67.0",
         "1",
         "1999-12-11 00:00:00"
        ],
        [
         "44",
         "Badu, Erkyah",
         "Bag Lady",
         "Rock",
         "67.0",
         "1",
         "2000-08-19 00:00:00"
        ],
        [
         "45",
         "Pink",
         "There U Go",
         "Rock",
         "25.0",
         "1",
         "2000-03-04 00:00:00"
        ],
        [
         "46",
         "Creed",
         "Higher",
         "Rock",
         "81.0",
         "1",
         "1999-09-11 00:00:00"
        ],
        [
         "47",
         "Nelly",
         "(Hot S**t) Country Grammar",
         "Rap",
         "100.0",
         "1",
         "2000-04-29 00:00:00"
        ],
        [
         "48",
         "Next",
         "Wifey",
         "Rock",
         "85.0",
         "1",
         "2000-05-27 00:00:00"
        ],
        [
         "49",
         "Kenny G",
         "Auld Lang Syne (The Millenium Mix)",
         "Jazz",
         "89.0",
         "1",
         "1999-12-25 00:00:00"
        ]
       ],
       "shape": {
        "columns": 6,
        "rows": 24092
       }
      },
      "text/html": [
       "<div>\n",
       "<style scoped>\n",
       "    .dataframe tbody tr th:only-of-type {\n",
       "        vertical-align: middle;\n",
       "    }\n",
       "\n",
       "    .dataframe tbody tr th {\n",
       "        vertical-align: top;\n",
       "    }\n",
       "\n",
       "    .dataframe thead th {\n",
       "        text-align: right;\n",
       "    }\n",
       "</style>\n",
       "<table border=\"1\" class=\"dataframe\">\n",
       "  <thead>\n",
       "    <tr style=\"text-align: right;\">\n",
       "      <th></th>\n",
       "      <th>artist</th>\n",
       "      <th>title</th>\n",
       "      <th>genre</th>\n",
       "      <th>rank</th>\n",
       "      <th>week_number</th>\n",
       "      <th>date</th>\n",
       "    </tr>\n",
       "  </thead>\n",
       "  <tbody>\n",
       "    <tr>\n",
       "      <th>0</th>\n",
       "      <td>Destiny's Child</td>\n",
       "      <td>Independent Women Part I</td>\n",
       "      <td>Rock</td>\n",
       "      <td>78.0</td>\n",
       "      <td>1</td>\n",
       "      <td>2000-09-23</td>\n",
       "    </tr>\n",
       "    <tr>\n",
       "      <th>1</th>\n",
       "      <td>Santana</td>\n",
       "      <td>Maria, Maria</td>\n",
       "      <td>Rock</td>\n",
       "      <td>15.0</td>\n",
       "      <td>1</td>\n",
       "      <td>2000-02-12</td>\n",
       "    </tr>\n",
       "    <tr>\n",
       "      <th>2</th>\n",
       "      <td>Savage Garden</td>\n",
       "      <td>I Knew I Loved You</td>\n",
       "      <td>Rock</td>\n",
       "      <td>71.0</td>\n",
       "      <td>1</td>\n",
       "      <td>1999-10-23</td>\n",
       "    </tr>\n",
       "    <tr>\n",
       "      <th>3</th>\n",
       "      <td>Madonna</td>\n",
       "      <td>Music</td>\n",
       "      <td>Rock</td>\n",
       "      <td>41.0</td>\n",
       "      <td>1</td>\n",
       "      <td>2000-08-12</td>\n",
       "    </tr>\n",
       "    <tr>\n",
       "      <th>4</th>\n",
       "      <td>Aguilera, Christina</td>\n",
       "      <td>Come On Over Baby (All I Want Is You)</td>\n",
       "      <td>Rock</td>\n",
       "      <td>57.0</td>\n",
       "      <td>1</td>\n",
       "      <td>2000-08-05</td>\n",
       "    </tr>\n",
       "    <tr>\n",
       "      <th>...</th>\n",
       "      <td>...</td>\n",
       "      <td>...</td>\n",
       "      <td>...</td>\n",
       "      <td>...</td>\n",
       "      <td>...</td>\n",
       "      <td>...</td>\n",
       "    </tr>\n",
       "    <tr>\n",
       "      <th>24087</th>\n",
       "      <td>Ghostface Killah</td>\n",
       "      <td>Cherchez LaGhost</td>\n",
       "      <td>R&amp;B</td>\n",
       "      <td>NaN</td>\n",
       "      <td>76</td>\n",
       "      <td>2002-01-12</td>\n",
       "    </tr>\n",
       "    <tr>\n",
       "      <th>24088</th>\n",
       "      <td>Smith, Will</td>\n",
       "      <td>Freakin' It</td>\n",
       "      <td>Rap</td>\n",
       "      <td>NaN</td>\n",
       "      <td>76</td>\n",
       "      <td>2001-07-21</td>\n",
       "    </tr>\n",
       "    <tr>\n",
       "      <th>24089</th>\n",
       "      <td>Zombie Nation</td>\n",
       "      <td>Kernkraft 400</td>\n",
       "      <td>Rock</td>\n",
       "      <td>NaN</td>\n",
       "      <td>76</td>\n",
       "      <td>2002-02-09</td>\n",
       "    </tr>\n",
       "    <tr>\n",
       "      <th>24090</th>\n",
       "      <td>Eastsidaz, The</td>\n",
       "      <td>Got Beef</td>\n",
       "      <td>Rap</td>\n",
       "      <td>NaN</td>\n",
       "      <td>76</td>\n",
       "      <td>2001-12-08</td>\n",
       "    </tr>\n",
       "    <tr>\n",
       "      <th>24091</th>\n",
       "      <td>Fragma</td>\n",
       "      <td>Toca's Miracle</td>\n",
       "      <td>R&amp;B</td>\n",
       "      <td>NaN</td>\n",
       "      <td>76</td>\n",
       "      <td>2002-04-06</td>\n",
       "    </tr>\n",
       "  </tbody>\n",
       "</table>\n",
       "<p>24092 rows × 6 columns</p>\n",
       "</div>"
      ],
      "text/plain": [
       "                    artist                                  title genre  rank  \\\n",
       "0          Destiny's Child               Independent Women Part I  Rock  78.0   \n",
       "1                  Santana                           Maria, Maria  Rock  15.0   \n",
       "2            Savage Garden                     I Knew I Loved You  Rock  71.0   \n",
       "3                  Madonna                                  Music  Rock  41.0   \n",
       "4      Aguilera, Christina  Come On Over Baby (All I Want Is You)  Rock  57.0   \n",
       "...                    ...                                    ...   ...   ...   \n",
       "24087     Ghostface Killah                       Cherchez LaGhost   R&B   NaN   \n",
       "24088          Smith, Will                            Freakin' It   Rap   NaN   \n",
       "24089        Zombie Nation                          Kernkraft 400  Rock   NaN   \n",
       "24090       Eastsidaz, The                               Got Beef   Rap   NaN   \n",
       "24091               Fragma                         Toca's Miracle   R&B   NaN   \n",
       "\n",
       "       week_number       date  \n",
       "0                1 2000-09-23  \n",
       "1                1 2000-02-12  \n",
       "2                1 1999-10-23  \n",
       "3                1 2000-08-12  \n",
       "4                1 2000-08-05  \n",
       "...            ...        ...  \n",
       "24087           76 2002-01-12  \n",
       "24088           76 2001-07-21  \n",
       "24089           76 2002-02-09  \n",
       "24090           76 2001-12-08  \n",
       "24091           76 2002-04-06  \n",
       "\n",
       "[24092 rows x 6 columns]"
      ]
     },
     "execution_count": 10,
     "metadata": {},
     "output_type": "execute_result"
    }
   ],
   "source": [
    "df_renamed = df_final.rename(columns={\n",
    "    'artist.inverted': 'artist',\n",
    "    'track': 'title',\n",
    "    'genre': 'genre',\n",
    "    'chart_position': 'rank',\n",
    "    'week': 'week_number',\n",
    "    'chart_date': 'date'\n",
    "})\n",
    "\n",
    "df_renamed"
   ]
  },
  {
   "attachments": {},
   "cell_type": "markdown",
   "metadata": {},
   "source": [
    "Display the dataframe"
   ]
  },
  {
   "attachments": {},
   "cell_type": "markdown",
   "metadata": {},
   "source": [
    "In the above dataframe, there are some *NaN* values. What are we going to do? <br/>\n",
    "9. Apply quick data cleaning and then observe the dataset"
   ]
  },
  {
   "attachments": {},
   "cell_type": "markdown",
   "metadata": {},
   "source": [
    "## **Data Cleaning**\n",
    "\n",
    "Data cleaning involves removing unwanted characters, imputing, or dropping missing values.\n",
    "\n",
    "The decision is based on the dataset you have, and the information you can extract from the other columns.\n",
    "\n",
    "\n",
    "Examples of data cleaning include cleaning:\n",
    "\n",
    "1.   **Missing Data**\n",
    "2.   **Irregular Data** (Outliers)\n",
    "3.   **Unnecessary Data** — Repetitive Data, Duplicates and more\n",
    "4.   **Inconsistent Data** — Capitalization, Addresses and more\n",
    "\n",
    "\n",
    "\n",
    "\n",
    "\n",
    "\n"
   ]
  },
  {
   "attachments": {},
   "cell_type": "markdown",
   "metadata": {},
   "source": [
    "### **Cars Data Set**"
   ]
  },
  {
   "attachments": {},
   "cell_type": "markdown",
   "metadata": {},
   "source": [
    "Start by reading the dataset related to car models: ./CSVs/cars.csv"
   ]
  },
  {
   "cell_type": "code",
   "execution_count": 11,
   "metadata": {},
   "outputs": [
    {
     "data": {
      "application/vnd.microsoft.datawrangler.viewer.v0+json": {
       "columns": [
        {
         "name": "index",
         "rawType": "int64",
         "type": "integer"
        },
        {
         "name": "Car",
         "rawType": "object",
         "type": "string"
        },
        {
         "name": "MPG",
         "rawType": "object",
         "type": "unknown"
        },
        {
         "name": "Cylinders",
         "rawType": "object",
         "type": "string"
        },
        {
         "name": "Displacement",
         "rawType": "object",
         "type": "unknown"
        },
        {
         "name": "Horsepower",
         "rawType": "object",
         "type": "unknown"
        },
        {
         "name": "Weight",
         "rawType": "object",
         "type": "unknown"
        },
        {
         "name": "Acceleration",
         "rawType": "object",
         "type": "string"
        },
        {
         "name": "Model",
         "rawType": "object",
         "type": "string"
        },
        {
         "name": "Origin",
         "rawType": "object",
         "type": "string"
        }
       ],
       "ref": "c9b8f05a-2e58-4395-a7f9-b932c1d119fb",
       "rows": [
        [
         "0",
         "STRING",
         "DOUBLE",
         "INT",
         "DOUBLE",
         "DOUBLE",
         "DOUBLE",
         "DOUBLE",
         "INT",
         "CAT"
        ],
        [
         "1",
         "Chevrolet Chevelle Malibu",
         null,
         "8",
         "307.0",
         "130.0",
         "3504.",
         "12.0",
         "70",
         "US"
        ],
        [
         "2",
         "Buick Skylark 320",
         "15.0",
         "8",
         "350.0",
         null,
         "3693.",
         "11.5",
         "70",
         "US"
        ],
        [
         "3",
         "Plymouth Satellite",
         null,
         "8",
         "318.0",
         "150.0",
         "3436.",
         "11.0",
         "70",
         "US"
        ],
        [
         "4",
         "AMC Rebel SST",
         "16.0",
         "8",
         null,
         "150.0",
         null,
         "12.0",
         "70",
         "US"
        ],
        [
         "5",
         "Ford Torino",
         "17.0",
         "8",
         "302.0",
         "140.0",
         "3449.",
         "10.5",
         "70",
         "US"
        ],
        [
         "6",
         "Ford Galaxie 500",
         null,
         "8",
         "429.0",
         null,
         "4341.",
         "10.0",
         "70",
         "US"
        ],
        [
         "7",
         "Chevrolet Impala",
         "14.0",
         "8",
         "454.0",
         "220.0",
         "4354.",
         "9.0",
         "70",
         "US"
        ],
        [
         "8",
         "Plymouth Fury iii",
         "14.0",
         "8",
         "440.0",
         "215.0",
         "4312.",
         "8.5",
         "70",
         "US"
        ],
        [
         "9",
         "Pontiac Catalina",
         "14.0",
         "8",
         "455.0",
         "225.0",
         "4425.",
         "10.0",
         "70",
         "US"
        ],
        [
         "10",
         "AMC Ambassador DPL",
         "15.0",
         "8",
         "390.0",
         "190.0",
         "3850.",
         "8.5",
         "70",
         "US"
        ],
        [
         "11",
         "Citroen DS-21 Pallas",
         "0",
         "4",
         "133.0",
         "115.0",
         "3090.",
         "17.5",
         "70",
         "Europe"
        ],
        [
         "12",
         "Chevrolet Chevelle Concours (sw)",
         "0",
         "8",
         "350.0",
         "165.0",
         "4142.",
         "11.5",
         "70",
         "US"
        ],
        [
         "13",
         "Ford Torino (sw)",
         "0",
         "8",
         "351.0",
         "153.0",
         "4034.",
         "11.0",
         "70",
         "US"
        ],
        [
         "14",
         "Plymouth Satellite (sw)",
         "0",
         "8",
         "383.0",
         "175.0",
         "4166.",
         "10.5",
         "70",
         "US"
        ],
        [
         "15",
         "AMC Rebel SST (sw)",
         "0",
         "8",
         "360.0",
         "175.0",
         "3850.",
         "11.0",
         "70",
         "US"
        ],
        [
         "16",
         "Dodge Challenger SE",
         "15.0",
         "8",
         "383.0",
         "170.0",
         "3563.",
         "10.0",
         "70",
         "US"
        ],
        [
         "17",
         "Plymouth 'Cuda 340",
         "14.0",
         "8",
         "340.0",
         "160.0",
         "3609.",
         "8.0",
         "70",
         "US"
        ],
        [
         "18",
         "Ford Mustang Boss 302",
         "0",
         "8",
         "302.0",
         "140.0",
         "3353.",
         "8.0",
         "70",
         "US"
        ],
        [
         "19",
         "Chevrolet Monte Carlo",
         "15.0",
         "8",
         "400.0",
         "150.0",
         "3761.",
         "9.5",
         "70",
         "US"
        ],
        [
         "20",
         "Buick Estate Wagon (sw)",
         "14.0",
         "8",
         "455.0",
         "225.0",
         "3086.",
         "10.0",
         "70",
         "US"
        ],
        [
         "21",
         "Toyota Corolla Mark ii",
         "24.0",
         "4",
         "113.0",
         "95.00",
         "2372.",
         "15.0",
         "70",
         "Japan"
        ],
        [
         "22",
         "Plymouth Duster",
         "22.0",
         "6",
         "198.0",
         "95.00",
         "2833.",
         "15.5",
         "70",
         "US"
        ],
        [
         "23",
         "AMC Hornet",
         "18.0",
         "6",
         "199.0",
         "97.00",
         "2774.",
         "15.5",
         "70",
         "US"
        ],
        [
         "24",
         "Ford Maverick",
         "21.0",
         "6",
         "200.0",
         "85.00",
         "2587.",
         "16.0",
         "70",
         "US"
        ],
        [
         "25",
         "Datsun PL510",
         "27.0",
         "4",
         "97.00",
         "88.00",
         "2130.",
         "14.5",
         "70",
         "Japan"
        ],
        [
         "26",
         "Volkswagen 1131 Deluxe Sedan",
         "26.0",
         "4",
         "97.00",
         "46.00",
         "1835.",
         "20.5",
         "70",
         "Europe"
        ],
        [
         "27",
         "Peugeot 504",
         "25.0",
         "4",
         "110.0",
         "87.00",
         "2672.",
         "17.5",
         "70",
         "Europe"
        ],
        [
         "28",
         "Audi 100 LS",
         "24.0",
         "4",
         "107.0",
         "90.00",
         "2430.",
         "14.5",
         "70",
         "Europe"
        ],
        [
         "29",
         "Saab 99e",
         "25.0",
         "4",
         "104.0",
         "95.00",
         "2375.",
         "17.5",
         "70",
         "Europe"
        ],
        [
         "30",
         "BMW 2002",
         "26.0",
         "4",
         "121.0",
         "113.0",
         "2234.",
         "12.5",
         "70",
         "Europe"
        ],
        [
         "31",
         "AMC Gremlin",
         "21.0",
         "6",
         "199.0",
         "90.00",
         "2648.",
         "15.0",
         "70",
         "US"
        ],
        [
         "32",
         "Ford F250",
         "10.0",
         "8",
         "360.0",
         "215.0",
         "4615.",
         "14.0",
         "70",
         "US"
        ],
        [
         "33",
         "Chevy C20",
         "10.0",
         "8",
         "307.0",
         "200.0",
         "4376.",
         "15.0",
         "70",
         "US"
        ],
        [
         "34",
         "Dodge D200",
         "11.0",
         "8",
         "318.0",
         "210.0",
         "4382.",
         "13.5",
         "70",
         "US"
        ],
        [
         "35",
         "Hi 1200D",
         "9.0",
         "8",
         "304.0",
         "193.0",
         "4732.",
         "18.5",
         "70",
         "US"
        ],
        [
         "36",
         "Datsun PL510",
         "27.0",
         "4",
         "97.00",
         "88.00",
         "2130.",
         "14.5",
         "71",
         "Japan"
        ],
        [
         "37",
         "Chevrolet Vega 2300",
         "28.0",
         "4",
         "140.0",
         "90.00",
         "2264.",
         "15.5",
         "71",
         "US"
        ],
        [
         "38",
         "Toyota Corolla",
         "25.0",
         "4",
         "113.0",
         "95.00",
         "2228.",
         "14.0",
         "71",
         "Japan"
        ],
        [
         "39",
         "Ford Pinto",
         "25.0",
         "4",
         "98.00",
         "0",
         "2046.",
         "19.0",
         "71",
         "US"
        ],
        [
         "40",
         "Volkswagen Super Beetle 117",
         "0",
         "4",
         "97.00",
         "48.00",
         "1978.",
         "20.0",
         "71",
         "Europe"
        ],
        [
         "41",
         "AMC Gremlin",
         "19.0",
         "6",
         "232.0",
         "100.0",
         "2634.",
         "13.0",
         "71",
         "US"
        ],
        [
         "42",
         "Plymouth Satellite Custom",
         "16.0",
         "6",
         "225.0",
         "105.0",
         "3439.",
         "15.5",
         "71",
         "US"
        ],
        [
         "43",
         "Chevrolet Chevelle Malibu",
         "17.0",
         "6",
         "250.0",
         "100.0",
         "3329.",
         "15.5",
         "71",
         "US"
        ],
        [
         "44",
         "Ford Torino 500",
         "19.0",
         "6",
         "250.0",
         "88.00",
         "3302.",
         "15.5",
         "71",
         "US"
        ],
        [
         "45",
         "AMC Matador",
         "18.0",
         "6",
         "232.0",
         "100.0",
         "3288.",
         "15.5",
         "71",
         "US"
        ],
        [
         "46",
         "Chevrolet Impala",
         "14.0",
         "8",
         "350.0",
         "165.0",
         "4209.",
         "12.0",
         "71",
         "US"
        ],
        [
         "47",
         "Pontiac Catalina Brougham",
         "14.0",
         "8",
         "400.0",
         "175.0",
         "4464.",
         "11.5",
         "71",
         "US"
        ],
        [
         "48",
         "Ford Galaxie 500",
         "14.0",
         "8",
         "351.0",
         "153.0",
         "4154.",
         "13.5",
         "71",
         "US"
        ],
        [
         "49",
         "Plymouth Fury iii",
         "14.0",
         "8",
         "318.0",
         "150.0",
         "4096.",
         "13.0",
         "71",
         "US"
        ]
       ],
       "shape": {
        "columns": 9,
        "rows": 407
       }
      },
      "text/html": [
       "<div>\n",
       "<style scoped>\n",
       "    .dataframe tbody tr th:only-of-type {\n",
       "        vertical-align: middle;\n",
       "    }\n",
       "\n",
       "    .dataframe tbody tr th {\n",
       "        vertical-align: top;\n",
       "    }\n",
       "\n",
       "    .dataframe thead th {\n",
       "        text-align: right;\n",
       "    }\n",
       "</style>\n",
       "<table border=\"1\" class=\"dataframe\">\n",
       "  <thead>\n",
       "    <tr style=\"text-align: right;\">\n",
       "      <th></th>\n",
       "      <th>Car</th>\n",
       "      <th>MPG</th>\n",
       "      <th>Cylinders</th>\n",
       "      <th>Displacement</th>\n",
       "      <th>Horsepower</th>\n",
       "      <th>Weight</th>\n",
       "      <th>Acceleration</th>\n",
       "      <th>Model</th>\n",
       "      <th>Origin</th>\n",
       "    </tr>\n",
       "  </thead>\n",
       "  <tbody>\n",
       "    <tr>\n",
       "      <th>0</th>\n",
       "      <td>STRING</td>\n",
       "      <td>DOUBLE</td>\n",
       "      <td>INT</td>\n",
       "      <td>DOUBLE</td>\n",
       "      <td>DOUBLE</td>\n",
       "      <td>DOUBLE</td>\n",
       "      <td>DOUBLE</td>\n",
       "      <td>INT</td>\n",
       "      <td>CAT</td>\n",
       "    </tr>\n",
       "    <tr>\n",
       "      <th>1</th>\n",
       "      <td>Chevrolet Chevelle Malibu</td>\n",
       "      <td>NaN</td>\n",
       "      <td>8</td>\n",
       "      <td>307.0</td>\n",
       "      <td>130.0</td>\n",
       "      <td>3504.</td>\n",
       "      <td>12.0</td>\n",
       "      <td>70</td>\n",
       "      <td>US</td>\n",
       "    </tr>\n",
       "    <tr>\n",
       "      <th>2</th>\n",
       "      <td>Buick Skylark 320</td>\n",
       "      <td>15.0</td>\n",
       "      <td>8</td>\n",
       "      <td>350.0</td>\n",
       "      <td>NaN</td>\n",
       "      <td>3693.</td>\n",
       "      <td>11.5</td>\n",
       "      <td>70</td>\n",
       "      <td>US</td>\n",
       "    </tr>\n",
       "    <tr>\n",
       "      <th>3</th>\n",
       "      <td>Plymouth Satellite</td>\n",
       "      <td>NaN</td>\n",
       "      <td>8</td>\n",
       "      <td>318.0</td>\n",
       "      <td>150.0</td>\n",
       "      <td>3436.</td>\n",
       "      <td>11.0</td>\n",
       "      <td>70</td>\n",
       "      <td>US</td>\n",
       "    </tr>\n",
       "    <tr>\n",
       "      <th>4</th>\n",
       "      <td>AMC Rebel SST</td>\n",
       "      <td>16.0</td>\n",
       "      <td>8</td>\n",
       "      <td>NaN</td>\n",
       "      <td>150.0</td>\n",
       "      <td>NaN</td>\n",
       "      <td>12.0</td>\n",
       "      <td>70</td>\n",
       "      <td>US</td>\n",
       "    </tr>\n",
       "    <tr>\n",
       "      <th>...</th>\n",
       "      <td>...</td>\n",
       "      <td>...</td>\n",
       "      <td>...</td>\n",
       "      <td>...</td>\n",
       "      <td>...</td>\n",
       "      <td>...</td>\n",
       "      <td>...</td>\n",
       "      <td>...</td>\n",
       "      <td>...</td>\n",
       "    </tr>\n",
       "    <tr>\n",
       "      <th>402</th>\n",
       "      <td>Ford Mustang GL</td>\n",
       "      <td>27.0</td>\n",
       "      <td>4</td>\n",
       "      <td>140.0</td>\n",
       "      <td>86.00</td>\n",
       "      <td>2790.</td>\n",
       "      <td>15.6</td>\n",
       "      <td>82</td>\n",
       "      <td>US</td>\n",
       "    </tr>\n",
       "    <tr>\n",
       "      <th>403</th>\n",
       "      <td>Volkswagen Pickup</td>\n",
       "      <td>44.0</td>\n",
       "      <td>4</td>\n",
       "      <td>97.00</td>\n",
       "      <td>52.00</td>\n",
       "      <td>2130.</td>\n",
       "      <td>24.6</td>\n",
       "      <td>82</td>\n",
       "      <td>Europe</td>\n",
       "    </tr>\n",
       "    <tr>\n",
       "      <th>404</th>\n",
       "      <td>Dodge Rampage</td>\n",
       "      <td>32.0</td>\n",
       "      <td>4</td>\n",
       "      <td>135.0</td>\n",
       "      <td>84.00</td>\n",
       "      <td>2295.</td>\n",
       "      <td>11.6</td>\n",
       "      <td>82</td>\n",
       "      <td>US</td>\n",
       "    </tr>\n",
       "    <tr>\n",
       "      <th>405</th>\n",
       "      <td>Ford Ranger</td>\n",
       "      <td>28.0</td>\n",
       "      <td>4</td>\n",
       "      <td>120.0</td>\n",
       "      <td>79.00</td>\n",
       "      <td>2625.</td>\n",
       "      <td>18.6</td>\n",
       "      <td>82</td>\n",
       "      <td>US</td>\n",
       "    </tr>\n",
       "    <tr>\n",
       "      <th>406</th>\n",
       "      <td>Chevy S-10</td>\n",
       "      <td>31.0</td>\n",
       "      <td>4</td>\n",
       "      <td>119.0</td>\n",
       "      <td>82.00</td>\n",
       "      <td>2720.</td>\n",
       "      <td>19.4</td>\n",
       "      <td>82</td>\n",
       "      <td>US</td>\n",
       "    </tr>\n",
       "  </tbody>\n",
       "</table>\n",
       "<p>407 rows × 9 columns</p>\n",
       "</div>"
      ],
      "text/plain": [
       "                           Car     MPG Cylinders Displacement Horsepower  \\\n",
       "0                       STRING  DOUBLE       INT       DOUBLE     DOUBLE   \n",
       "1    Chevrolet Chevelle Malibu     NaN         8        307.0      130.0   \n",
       "2            Buick Skylark 320    15.0         8        350.0        NaN   \n",
       "3           Plymouth Satellite     NaN         8        318.0      150.0   \n",
       "4                AMC Rebel SST    16.0         8          NaN      150.0   \n",
       "..                         ...     ...       ...          ...        ...   \n",
       "402            Ford Mustang GL    27.0         4        140.0      86.00   \n",
       "403          Volkswagen Pickup    44.0         4        97.00      52.00   \n",
       "404              Dodge Rampage    32.0         4        135.0      84.00   \n",
       "405                Ford Ranger    28.0         4        120.0      79.00   \n",
       "406                 Chevy S-10    31.0         4        119.0      82.00   \n",
       "\n",
       "     Weight Acceleration Model  Origin  \n",
       "0    DOUBLE       DOUBLE   INT     CAT  \n",
       "1     3504.         12.0    70      US  \n",
       "2     3693.         11.5    70      US  \n",
       "3     3436.         11.0    70      US  \n",
       "4       NaN         12.0    70      US  \n",
       "..      ...          ...   ...     ...  \n",
       "402   2790.         15.6    82      US  \n",
       "403   2130.         24.6    82  Europe  \n",
       "404   2295.         11.6    82      US  \n",
       "405   2625.         18.6    82      US  \n",
       "406   2720.         19.4    82      US  \n",
       "\n",
       "[407 rows x 9 columns]"
      ]
     },
     "execution_count": 11,
     "metadata": {},
     "output_type": "execute_result"
    }
   ],
   "source": [
    "#code to read csv file from /data/cars.csv\n",
    "cars_csvPath = \"data/cars.csv\"\n",
    "#read using and load the file as dataframe as df\n",
    "cars_dataFrame = pd.read_csv(cars_csvPath, sep=';')\n",
    "# cars_dataFrame = pd.read_csv(cars_csvPath, sep=';', na_values=['', '?', 'NA', 'null'])\n",
    "cars_dataFrame"
   ]
  },
  {
   "attachments": {},
   "cell_type": "markdown",
   "metadata": {},
   "source": [
    "First Row seems to be the datatype, we need to remove it"
   ]
  },
  {
   "cell_type": "code",
   "execution_count": 12,
   "metadata": {},
   "outputs": [
    {
     "data": {
      "application/vnd.microsoft.datawrangler.viewer.v0+json": {
       "columns": [
        {
         "name": "index",
         "rawType": "int64",
         "type": "integer"
        },
        {
         "name": "Car",
         "rawType": "object",
         "type": "string"
        },
        {
         "name": "MPG",
         "rawType": "object",
         "type": "unknown"
        },
        {
         "name": "Cylinders",
         "rawType": "object",
         "type": "string"
        },
        {
         "name": "Displacement",
         "rawType": "object",
         "type": "unknown"
        },
        {
         "name": "Horsepower",
         "rawType": "object",
         "type": "unknown"
        },
        {
         "name": "Weight",
         "rawType": "object",
         "type": "unknown"
        },
        {
         "name": "Acceleration",
         "rawType": "object",
         "type": "string"
        },
        {
         "name": "Model",
         "rawType": "object",
         "type": "string"
        },
        {
         "name": "Origin",
         "rawType": "object",
         "type": "string"
        }
       ],
       "ref": "e2c5be33-5bb8-4afb-96cb-afee11a4a343",
       "rows": [
        [
         "0",
         "Chevrolet Chevelle Malibu",
         null,
         "8",
         "307.0",
         "130.0",
         "3504.",
         "12.0",
         "70",
         "US"
        ],
        [
         "1",
         "Buick Skylark 320",
         "15.0",
         "8",
         "350.0",
         null,
         "3693.",
         "11.5",
         "70",
         "US"
        ],
        [
         "2",
         "Plymouth Satellite",
         null,
         "8",
         "318.0",
         "150.0",
         "3436.",
         "11.0",
         "70",
         "US"
        ],
        [
         "3",
         "AMC Rebel SST",
         "16.0",
         "8",
         null,
         "150.0",
         null,
         "12.0",
         "70",
         "US"
        ],
        [
         "4",
         "Ford Torino",
         "17.0",
         "8",
         "302.0",
         "140.0",
         "3449.",
         "10.5",
         "70",
         "US"
        ],
        [
         "5",
         "Ford Galaxie 500",
         null,
         "8",
         "429.0",
         null,
         "4341.",
         "10.0",
         "70",
         "US"
        ],
        [
         "6",
         "Chevrolet Impala",
         "14.0",
         "8",
         "454.0",
         "220.0",
         "4354.",
         "9.0",
         "70",
         "US"
        ],
        [
         "7",
         "Plymouth Fury iii",
         "14.0",
         "8",
         "440.0",
         "215.0",
         "4312.",
         "8.5",
         "70",
         "US"
        ],
        [
         "8",
         "Pontiac Catalina",
         "14.0",
         "8",
         "455.0",
         "225.0",
         "4425.",
         "10.0",
         "70",
         "US"
        ],
        [
         "9",
         "AMC Ambassador DPL",
         "15.0",
         "8",
         "390.0",
         "190.0",
         "3850.",
         "8.5",
         "70",
         "US"
        ],
        [
         "10",
         "Citroen DS-21 Pallas",
         "0",
         "4",
         "133.0",
         "115.0",
         "3090.",
         "17.5",
         "70",
         "Europe"
        ],
        [
         "11",
         "Chevrolet Chevelle Concours (sw)",
         "0",
         "8",
         "350.0",
         "165.0",
         "4142.",
         "11.5",
         "70",
         "US"
        ],
        [
         "12",
         "Ford Torino (sw)",
         "0",
         "8",
         "351.0",
         "153.0",
         "4034.",
         "11.0",
         "70",
         "US"
        ],
        [
         "13",
         "Plymouth Satellite (sw)",
         "0",
         "8",
         "383.0",
         "175.0",
         "4166.",
         "10.5",
         "70",
         "US"
        ],
        [
         "14",
         "AMC Rebel SST (sw)",
         "0",
         "8",
         "360.0",
         "175.0",
         "3850.",
         "11.0",
         "70",
         "US"
        ],
        [
         "15",
         "Dodge Challenger SE",
         "15.0",
         "8",
         "383.0",
         "170.0",
         "3563.",
         "10.0",
         "70",
         "US"
        ],
        [
         "16",
         "Plymouth 'Cuda 340",
         "14.0",
         "8",
         "340.0",
         "160.0",
         "3609.",
         "8.0",
         "70",
         "US"
        ],
        [
         "17",
         "Ford Mustang Boss 302",
         "0",
         "8",
         "302.0",
         "140.0",
         "3353.",
         "8.0",
         "70",
         "US"
        ],
        [
         "18",
         "Chevrolet Monte Carlo",
         "15.0",
         "8",
         "400.0",
         "150.0",
         "3761.",
         "9.5",
         "70",
         "US"
        ],
        [
         "19",
         "Buick Estate Wagon (sw)",
         "14.0",
         "8",
         "455.0",
         "225.0",
         "3086.",
         "10.0",
         "70",
         "US"
        ],
        [
         "20",
         "Toyota Corolla Mark ii",
         "24.0",
         "4",
         "113.0",
         "95.00",
         "2372.",
         "15.0",
         "70",
         "Japan"
        ],
        [
         "21",
         "Plymouth Duster",
         "22.0",
         "6",
         "198.0",
         "95.00",
         "2833.",
         "15.5",
         "70",
         "US"
        ],
        [
         "22",
         "AMC Hornet",
         "18.0",
         "6",
         "199.0",
         "97.00",
         "2774.",
         "15.5",
         "70",
         "US"
        ],
        [
         "23",
         "Ford Maverick",
         "21.0",
         "6",
         "200.0",
         "85.00",
         "2587.",
         "16.0",
         "70",
         "US"
        ],
        [
         "24",
         "Datsun PL510",
         "27.0",
         "4",
         "97.00",
         "88.00",
         "2130.",
         "14.5",
         "70",
         "Japan"
        ],
        [
         "25",
         "Volkswagen 1131 Deluxe Sedan",
         "26.0",
         "4",
         "97.00",
         "46.00",
         "1835.",
         "20.5",
         "70",
         "Europe"
        ],
        [
         "26",
         "Peugeot 504",
         "25.0",
         "4",
         "110.0",
         "87.00",
         "2672.",
         "17.5",
         "70",
         "Europe"
        ],
        [
         "27",
         "Audi 100 LS",
         "24.0",
         "4",
         "107.0",
         "90.00",
         "2430.",
         "14.5",
         "70",
         "Europe"
        ],
        [
         "28",
         "Saab 99e",
         "25.0",
         "4",
         "104.0",
         "95.00",
         "2375.",
         "17.5",
         "70",
         "Europe"
        ],
        [
         "29",
         "BMW 2002",
         "26.0",
         "4",
         "121.0",
         "113.0",
         "2234.",
         "12.5",
         "70",
         "Europe"
        ],
        [
         "30",
         "AMC Gremlin",
         "21.0",
         "6",
         "199.0",
         "90.00",
         "2648.",
         "15.0",
         "70",
         "US"
        ],
        [
         "31",
         "Ford F250",
         "10.0",
         "8",
         "360.0",
         "215.0",
         "4615.",
         "14.0",
         "70",
         "US"
        ],
        [
         "32",
         "Chevy C20",
         "10.0",
         "8",
         "307.0",
         "200.0",
         "4376.",
         "15.0",
         "70",
         "US"
        ],
        [
         "33",
         "Dodge D200",
         "11.0",
         "8",
         "318.0",
         "210.0",
         "4382.",
         "13.5",
         "70",
         "US"
        ],
        [
         "34",
         "Hi 1200D",
         "9.0",
         "8",
         "304.0",
         "193.0",
         "4732.",
         "18.5",
         "70",
         "US"
        ],
        [
         "35",
         "Datsun PL510",
         "27.0",
         "4",
         "97.00",
         "88.00",
         "2130.",
         "14.5",
         "71",
         "Japan"
        ],
        [
         "36",
         "Chevrolet Vega 2300",
         "28.0",
         "4",
         "140.0",
         "90.00",
         "2264.",
         "15.5",
         "71",
         "US"
        ],
        [
         "37",
         "Toyota Corolla",
         "25.0",
         "4",
         "113.0",
         "95.00",
         "2228.",
         "14.0",
         "71",
         "Japan"
        ],
        [
         "38",
         "Ford Pinto",
         "25.0",
         "4",
         "98.00",
         "0",
         "2046.",
         "19.0",
         "71",
         "US"
        ],
        [
         "39",
         "Volkswagen Super Beetle 117",
         "0",
         "4",
         "97.00",
         "48.00",
         "1978.",
         "20.0",
         "71",
         "Europe"
        ],
        [
         "40",
         "AMC Gremlin",
         "19.0",
         "6",
         "232.0",
         "100.0",
         "2634.",
         "13.0",
         "71",
         "US"
        ],
        [
         "41",
         "Plymouth Satellite Custom",
         "16.0",
         "6",
         "225.0",
         "105.0",
         "3439.",
         "15.5",
         "71",
         "US"
        ],
        [
         "42",
         "Chevrolet Chevelle Malibu",
         "17.0",
         "6",
         "250.0",
         "100.0",
         "3329.",
         "15.5",
         "71",
         "US"
        ],
        [
         "43",
         "Ford Torino 500",
         "19.0",
         "6",
         "250.0",
         "88.00",
         "3302.",
         "15.5",
         "71",
         "US"
        ],
        [
         "44",
         "AMC Matador",
         "18.0",
         "6",
         "232.0",
         "100.0",
         "3288.",
         "15.5",
         "71",
         "US"
        ],
        [
         "45",
         "Chevrolet Impala",
         "14.0",
         "8",
         "350.0",
         "165.0",
         "4209.",
         "12.0",
         "71",
         "US"
        ],
        [
         "46",
         "Pontiac Catalina Brougham",
         "14.0",
         "8",
         "400.0",
         "175.0",
         "4464.",
         "11.5",
         "71",
         "US"
        ],
        [
         "47",
         "Ford Galaxie 500",
         "14.0",
         "8",
         "351.0",
         "153.0",
         "4154.",
         "13.5",
         "71",
         "US"
        ],
        [
         "48",
         "Plymouth Fury iii",
         "14.0",
         "8",
         "318.0",
         "150.0",
         "4096.",
         "13.0",
         "71",
         "US"
        ],
        [
         "49",
         "Dodge Monaco (sw)",
         "12.0",
         "8",
         "383.0",
         "180.0",
         "4955.",
         "11.5",
         "71",
         "US"
        ]
       ],
       "shape": {
        "columns": 9,
        "rows": 406
       }
      },
      "text/html": [
       "<div>\n",
       "<style scoped>\n",
       "    .dataframe tbody tr th:only-of-type {\n",
       "        vertical-align: middle;\n",
       "    }\n",
       "\n",
       "    .dataframe tbody tr th {\n",
       "        vertical-align: top;\n",
       "    }\n",
       "\n",
       "    .dataframe thead th {\n",
       "        text-align: right;\n",
       "    }\n",
       "</style>\n",
       "<table border=\"1\" class=\"dataframe\">\n",
       "  <thead>\n",
       "    <tr style=\"text-align: right;\">\n",
       "      <th></th>\n",
       "      <th>Car</th>\n",
       "      <th>MPG</th>\n",
       "      <th>Cylinders</th>\n",
       "      <th>Displacement</th>\n",
       "      <th>Horsepower</th>\n",
       "      <th>Weight</th>\n",
       "      <th>Acceleration</th>\n",
       "      <th>Model</th>\n",
       "      <th>Origin</th>\n",
       "    </tr>\n",
       "  </thead>\n",
       "  <tbody>\n",
       "    <tr>\n",
       "      <th>0</th>\n",
       "      <td>Chevrolet Chevelle Malibu</td>\n",
       "      <td>NaN</td>\n",
       "      <td>8</td>\n",
       "      <td>307.0</td>\n",
       "      <td>130.0</td>\n",
       "      <td>3504.</td>\n",
       "      <td>12.0</td>\n",
       "      <td>70</td>\n",
       "      <td>US</td>\n",
       "    </tr>\n",
       "    <tr>\n",
       "      <th>1</th>\n",
       "      <td>Buick Skylark 320</td>\n",
       "      <td>15.0</td>\n",
       "      <td>8</td>\n",
       "      <td>350.0</td>\n",
       "      <td>NaN</td>\n",
       "      <td>3693.</td>\n",
       "      <td>11.5</td>\n",
       "      <td>70</td>\n",
       "      <td>US</td>\n",
       "    </tr>\n",
       "    <tr>\n",
       "      <th>2</th>\n",
       "      <td>Plymouth Satellite</td>\n",
       "      <td>NaN</td>\n",
       "      <td>8</td>\n",
       "      <td>318.0</td>\n",
       "      <td>150.0</td>\n",
       "      <td>3436.</td>\n",
       "      <td>11.0</td>\n",
       "      <td>70</td>\n",
       "      <td>US</td>\n",
       "    </tr>\n",
       "    <tr>\n",
       "      <th>3</th>\n",
       "      <td>AMC Rebel SST</td>\n",
       "      <td>16.0</td>\n",
       "      <td>8</td>\n",
       "      <td>NaN</td>\n",
       "      <td>150.0</td>\n",
       "      <td>NaN</td>\n",
       "      <td>12.0</td>\n",
       "      <td>70</td>\n",
       "      <td>US</td>\n",
       "    </tr>\n",
       "    <tr>\n",
       "      <th>4</th>\n",
       "      <td>Ford Torino</td>\n",
       "      <td>17.0</td>\n",
       "      <td>8</td>\n",
       "      <td>302.0</td>\n",
       "      <td>140.0</td>\n",
       "      <td>3449.</td>\n",
       "      <td>10.5</td>\n",
       "      <td>70</td>\n",
       "      <td>US</td>\n",
       "    </tr>\n",
       "    <tr>\n",
       "      <th>...</th>\n",
       "      <td>...</td>\n",
       "      <td>...</td>\n",
       "      <td>...</td>\n",
       "      <td>...</td>\n",
       "      <td>...</td>\n",
       "      <td>...</td>\n",
       "      <td>...</td>\n",
       "      <td>...</td>\n",
       "      <td>...</td>\n",
       "    </tr>\n",
       "    <tr>\n",
       "      <th>401</th>\n",
       "      <td>Ford Mustang GL</td>\n",
       "      <td>27.0</td>\n",
       "      <td>4</td>\n",
       "      <td>140.0</td>\n",
       "      <td>86.00</td>\n",
       "      <td>2790.</td>\n",
       "      <td>15.6</td>\n",
       "      <td>82</td>\n",
       "      <td>US</td>\n",
       "    </tr>\n",
       "    <tr>\n",
       "      <th>402</th>\n",
       "      <td>Volkswagen Pickup</td>\n",
       "      <td>44.0</td>\n",
       "      <td>4</td>\n",
       "      <td>97.00</td>\n",
       "      <td>52.00</td>\n",
       "      <td>2130.</td>\n",
       "      <td>24.6</td>\n",
       "      <td>82</td>\n",
       "      <td>Europe</td>\n",
       "    </tr>\n",
       "    <tr>\n",
       "      <th>403</th>\n",
       "      <td>Dodge Rampage</td>\n",
       "      <td>32.0</td>\n",
       "      <td>4</td>\n",
       "      <td>135.0</td>\n",
       "      <td>84.00</td>\n",
       "      <td>2295.</td>\n",
       "      <td>11.6</td>\n",
       "      <td>82</td>\n",
       "      <td>US</td>\n",
       "    </tr>\n",
       "    <tr>\n",
       "      <th>404</th>\n",
       "      <td>Ford Ranger</td>\n",
       "      <td>28.0</td>\n",
       "      <td>4</td>\n",
       "      <td>120.0</td>\n",
       "      <td>79.00</td>\n",
       "      <td>2625.</td>\n",
       "      <td>18.6</td>\n",
       "      <td>82</td>\n",
       "      <td>US</td>\n",
       "    </tr>\n",
       "    <tr>\n",
       "      <th>405</th>\n",
       "      <td>Chevy S-10</td>\n",
       "      <td>31.0</td>\n",
       "      <td>4</td>\n",
       "      <td>119.0</td>\n",
       "      <td>82.00</td>\n",
       "      <td>2720.</td>\n",
       "      <td>19.4</td>\n",
       "      <td>82</td>\n",
       "      <td>US</td>\n",
       "    </tr>\n",
       "  </tbody>\n",
       "</table>\n",
       "<p>406 rows × 9 columns</p>\n",
       "</div>"
      ],
      "text/plain": [
       "                           Car   MPG Cylinders Displacement Horsepower Weight  \\\n",
       "0    Chevrolet Chevelle Malibu   NaN         8        307.0      130.0  3504.   \n",
       "1            Buick Skylark 320  15.0         8        350.0        NaN  3693.   \n",
       "2           Plymouth Satellite   NaN         8        318.0      150.0  3436.   \n",
       "3                AMC Rebel SST  16.0         8          NaN      150.0    NaN   \n",
       "4                  Ford Torino  17.0         8        302.0      140.0  3449.   \n",
       "..                         ...   ...       ...          ...        ...    ...   \n",
       "401            Ford Mustang GL  27.0         4        140.0      86.00  2790.   \n",
       "402          Volkswagen Pickup  44.0         4        97.00      52.00  2130.   \n",
       "403              Dodge Rampage  32.0         4        135.0      84.00  2295.   \n",
       "404                Ford Ranger  28.0         4        120.0      79.00  2625.   \n",
       "405                 Chevy S-10  31.0         4        119.0      82.00  2720.   \n",
       "\n",
       "    Acceleration Model  Origin  \n",
       "0           12.0    70      US  \n",
       "1           11.5    70      US  \n",
       "2           11.0    70      US  \n",
       "3           12.0    70      US  \n",
       "4           10.5    70      US  \n",
       "..           ...   ...     ...  \n",
       "401         15.6    82      US  \n",
       "402         24.6    82  Europe  \n",
       "403         11.6    82      US  \n",
       "404         18.6    82      US  \n",
       "405         19.4    82      US  \n",
       "\n",
       "[406 rows x 9 columns]"
      ]
     },
     "execution_count": 12,
     "metadata": {},
     "output_type": "execute_result"
    }
   ],
   "source": [
    "cars_dataFrame = cars_dataFrame.iloc[1:].reset_index(drop=True)\n",
    "\n",
    "# OR cars_dataFrame = cars_dataFrame.drop(index=0).reset_index(drop=True)\n",
    "cars_dataFrame"
   ]
  },
  {
   "attachments": {},
   "cell_type": "markdown",
   "metadata": {},
   "source": [
    "Let's observe the columns with null values.  Either by using the `isnull().sum()` function "
   ]
  },
  {
   "cell_type": "code",
   "execution_count": 13,
   "metadata": {},
   "outputs": [
    {
     "name": "stdout",
     "output_type": "stream",
     "text": [
      "    Column_Name  Missing_Data\n",
      "0           Car             0\n",
      "1           MPG             3\n",
      "2     Cylinders             0\n",
      "3  Displacement             1\n",
      "4    Horsepower             2\n",
      "5        Weight             1\n",
      "6  Acceleration             0\n",
      "7         Model             0\n",
      "8        Origin             0\n"
     ]
    }
   ],
   "source": [
    "# if any cell is missing the data we need to show but after getting 0 as answer, using this code\n",
    "# for making it sure any  '', '?', 'NA', 'null' is also a missing data\n",
    "cars_dataFrame.replace(['', '?', 'NA', 'null'], pd.NA, inplace=True)\n",
    "\n",
    "\n",
    "# Check columns with null values\n",
    "missing_report = cars_dataFrame.isnull().sum().reset_index()\n",
    "missing_report.columns = ['Column_Name', 'Missing_Data']\n",
    "print(missing_report)"
   ]
  },
  {
   "attachments": {},
   "cell_type": "markdown",
   "metadata": {},
   "source": [
    "There aren't many missing values. Let's take a glimpse at the percentage of the missing values:\n",
    "\n",
    "**HINT:** We'll need `Numpy` for the below task."
   ]
  },
  {
   "cell_type": "code",
   "execution_count": 14,
   "metadata": {},
   "outputs": [
    {
     "name": "stdout",
     "output_type": "stream",
     "text": [
      "    column_name  missing_percent\n",
      "0           Car             0.00\n",
      "1           MPG             0.74\n",
      "2     Cylinders             0.00\n",
      "3  Displacement             0.25\n",
      "4    Horsepower             0.49\n",
      "5        Weight             0.25\n",
      "6  Acceleration             0.00\n",
      "7         Model             0.00\n",
      "8        Origin             0.00\n"
     ]
    }
   ],
   "source": [
    "import numpy as np\n",
    "\n",
    "missing_percent = cars_dataFrame.isnull().sum() / len(cars_dataFrame) * 100\n",
    "missing_report = pd.DataFrame({\n",
    "    'column_name': cars_dataFrame.columns,\n",
    "    'missing_percent': np.round(missing_percent.values, 2)\n",
    "})\n",
    "\n",
    "print(missing_report)"
   ]
  },
  {
   "attachments": {},
   "cell_type": "markdown",
   "metadata": {},
   "source": [
    "Around *0.19%* of the values are missing, which isn't a lot. Therefore, we might go with the option of dropping all the rows with null values."
   ]
  },
  {
   "attachments": {},
   "cell_type": "markdown",
   "metadata": {},
   "source": [
    "Lets also check dropping the columns"
   ]
  },
  {
   "attachments": {},
   "cell_type": "markdown",
   "metadata": {},
   "source": [
    "Let's observe how many columns we lost"
   ]
  },
  {
   "attachments": {},
   "cell_type": "markdown",
   "metadata": {},
   "source": [
    "### **Cars Dataset - Filling in missing values automatically**\n",
    "\n",
    "Another option is to try and fill in the missing values through imputations."
   ]
  },
  {
   "attachments": {},
   "cell_type": "markdown",
   "metadata": {},
   "source": [
    "Let's take the `MPG` column for example. We can fill in the missing values with 0s through the following line of code:\n",
    "\n",
    "`df_cars.fillna(0) `. "
   ]
  },
  {
   "attachments": {},
   "cell_type": "markdown",
   "metadata": {},
   "source": [
    "However, this does not make much sense as there isn't MPG equal to 0. How about we plot the MPG column and if it follows a random distribution we can use the mean of the column to compute the missing values. Otherwise, we can use the median (if there is a skewed normal distribution). However, there might be a better way of imputation which is getting the median or the mean of the MPG of the cars with similar attributes."
   ]
  },
  {
   "attachments": {},
   "cell_type": "markdown",
   "metadata": {},
   "source": [
    "If we observe the graph above, we can consider it in a way or another normally distributed. Therefore, we can impute the missing values using the mean."
   ]
  },
  {
   "attachments": {},
   "cell_type": "markdown",
   "metadata": {},
   "source": [
    "To compute the mean we need numeric values. However the values in the dataframe are objects. Therefore, we need to change them to numerics so that we can compute them."
   ]
  },
  {
   "attachments": {},
   "cell_type": "markdown",
   "metadata": {},
   "source": [
    "Now let's see what is the mean of the MPG column"
   ]
  },
  {
   "attachments": {},
   "cell_type": "markdown",
   "metadata": {},
   "source": [
    "We can use this mean to compute the missing values since the graph demonstarted a normal distribution"
   ]
  },
  {
   "attachments": {},
   "cell_type": "markdown",
   "metadata": {},
   "source": [
    "### **Car Dataset - Simple Imputer**"
   ]
  },
  {
   "attachments": {},
   "cell_type": "markdown",
   "metadata": {},
   "source": [
    "*SimpleImputer* is a `scikit-learn` class which is helpful in handling the missing data in the predictive model dataset. It replaces the `NaN` values with a specified placeholder.\n",
    "It is implemented by the use of the `SimpleImputer()` method which takes the following arguments :\n",
    "\n",
    "`missing_values` : The missing_values placeholder which has to be imputed. By default is NaN\n",
    "\n",
    "`strategy` : The data which will replace the NaN values from the dataset. The strategy argument can take the values – ‘mean'(default), ‘median’, ‘most_frequent’ and ‘constant’.\n"
   ]
  },
  {
   "attachments": {},
   "cell_type": "markdown",
   "metadata": {},
   "source": [
    "Let's start by importing the `SimpleImputer` into our notebook"
   ]
  },
  {
   "attachments": {},
   "cell_type": "markdown",
   "metadata": {},
   "source": [
    "What we need to do are two essential steps:\n",
    "\n",
    "1. fit the data (compute the mean / median / most freq)\n",
    "2. transform the data (place the computed values in the NaN cells)"
   ]
  },
  {
   "cell_type": "code",
   "execution_count": null,
   "metadata": {},
   "outputs": [],
   "source": [
    "# Simple Imputer\n",
    "# --- IGNORE ---\n",
    "#from sklearn.impute import SimpleImputer\n",
    "#imputer = SimpleImputer(strategy='mean')   \n",
    "# --- IGNORE ---\n",
    "from sklearn.impute import SimpleImputer\n",
    "imputer = SimpleImputer(strategy='mean')\n",
    "# Fit the imputer on the DataFrame\n",
    "imputer.fit(cars_dataFrame[['Weight', 'MPG']])\n",
    "# --- IGNORE ---\n",
    "# Transform the DataFrame to fill missing values\n",
    "cars_dataFrame[['Weight', 'MPG']] = imputer.transform(cars_dataFrame[['Weight', 'MPG']])\n",
    "# --- IGNORE ---\n",
    "# Transform the DataFrame to fill missing values\n",
    "cars_dataFrame[['Weight', 'MPG']] = imputer.transform(cars_dataFrame[['Weight', 'MPG']])\n",
    "cars_dataFrame\n",
    "#!/usr/bin/env python3\n"
   ]
  },
  {
   "cell_type": "markdown",
   "metadata": {},
   "source": [
    "## **Outlier Detection** \n",
    "\n",
    "\n",
    "An Outlier is a data-item/object that deviates significantly from the rest of the (so-called normal)objects. They can be caused by measurement or execution errors. The analysis for outlier detection is referred to as outlier mining. There are many ways to detect the outliers, and the removal process is the data frame same as removing a data item from the panda’s data frame.\n",
    "\n",
    "\n",
    "\n",
    "https://www.geeksforgeeks.org/detect-and-remove-the-outliers-using-python/\n",
    "\n",
    "\n",
    "\n"
   ]
  },
  {
   "cell_type": "code",
   "execution_count": 8,
   "metadata": {},
   "outputs": [],
   "source": [
    "#Outlier Detection and Removal\n",
    "# --- IGNORE ---\n",
    "import pandas as pd\n",
    "import numpy as np\n",
    "from sklearn.ensemble import IsolationForest\n",
    "# --- IGNORE ---\n",
    "data = {\n",
    "    'A': [1, 2, 3, 4, 100],\n",
    "    'B': [5, 6, 7, 8, -50],\n",
    "    'C': [9, 10, 11, 12, 200]\n",
    "}  \n",
    "df = pd.DataFrame(data)\n"
   ]
  },
  {
   "cell_type": "markdown",
   "metadata": {},
   "source": [
    "### Outliers Visualization"
   ]
  },
  {
   "cell_type": "markdown",
   "metadata": {},
   "source": [
    "#### Visualizing Outliers Using Box Plot\n",
    "It captures the summary of the data effectively and efficiently with only a simple box and whiskers. Boxplot summarizes sample data using 25th, 50th, and 75th percentiles. One can just get insights(quartiles, median, and outliers) into the dataset by just looking at its boxplot."
   ]
  },
  {
   "cell_type": "code",
   "execution_count": 10,
   "metadata": {},
   "outputs": [
    {
     "data": {
      "image/png": "[encoded data removed]",
      "text/plain": [
       "<Figure size 1000x600 with 1 Axes>"
      ]
     },
     "metadata": {},
     "output_type": "display_data"
    }
   ],
   "source": [
    "#Boxplot method\n",
    "# --- IGNORE ---    \n",
    "import matplotlib.pyplot as plt\n",
    "import seaborn as sns\n",
    "# --- IGNORE ---\n",
    "plt.figure(figsize=(10, 6))\n",
    "sns.boxplot(data=df)\n",
    "plt.title('Boxplot for Outlier Detection')\n",
    "plt.show()"
   ]
  },
  {
   "cell_type": "markdown",
   "metadata": {},
   "source": [
    "#### Visualizing Outliers Using ScatterPlot.\n",
    "\n",
    "It is used when you have paired numerical data and when your dependent variable has multiple values for each reading independent variable, or when trying to determine the relationship between the two variables. In the process of utilizing the scatter plot, one can also use it for outlier detection."
   ]
  },
  {
   "cell_type": "code",
   "execution_count": 11,
   "metadata": {},
   "outputs": [
    {
     "data": {
      "image/png": "[encoded data removed]",
      "text/plain": [
       "<Figure size 1000x600 with 1 Axes>"
      ]
     },
     "metadata": {},
     "output_type": "display_data"
    }
   ],
   "source": [
    "# Visualization Outlier using Scatter Plot\n",
    "# --- IGNORE ---    \n",
    "plt.figure(figsize=(10, 6))\n",
    "plt.scatter(df.index, df['A'], color='blue', label='A')\n",
    "plt.scatter(df.index, df['B'], color='green', label='B')\n",
    "plt.scatter(df.index, df['C'], color='red', label='C')\n",
    "plt.title('Scatter Plot for Outlier Detection')\n",
    "plt.xlabel('Index')\n",
    "plt.ylabel('Values')\n",
    "plt.legend()\n",
    "plt.show()\n",
    "# --- IGNORE ---\n"
   ]
  },
  {
   "cell_type": "markdown",
   "metadata": {},
   "source": [
    "#### Z-Score:\n",
    "Z- Score is also called a standard score. This value/score helps to understand that how far is the data point from the mean. And after setting up a threshold value one can utilize z score values of data points to define the outliers.\n",
    "<br>\n",
    "Zscore = (data_point -mean) / std. deviation\n",
    "\n"
   ]
  },
  {
   "cell_type": "code",
   "execution_count": null,
   "metadata": {},
   "outputs": [],
   "source": []
  },
  {
   "cell_type": "markdown",
   "metadata": {},
   "source": [
    "Now to define an outlier threshold value is chosen which is generally 3.0. As 99.7% of the data points lie between +/- 3 standard deviation (using Gaussian Distribution approach).\n",
    "\n",
    "Rows where Z value is greater than 2"
   ]
  },
  {
   "cell_type": "code",
   "execution_count": null,
   "metadata": {},
   "outputs": [],
   "source": []
  },
  {
   "cell_type": "markdown",
   "metadata": {},
   "source": [
    "#### IQR (Inter-Quartile Range)\n",
    "Inter Quartile Range approach to finding the outliers is the most commonly used and most trusted approach used in the research field. <Br>\n",
    "IQR = Quartile3 - Quartile1"
   ]
  },
  {
   "cell_type": "code",
   "execution_count": null,
   "metadata": {},
   "outputs": [],
   "source": []
  },
  {
   "cell_type": "markdown",
   "metadata": {},
   "source": [
    "To define the outlier base value is defined above and below dataset’s normal range namely Upper and Lower bounds, define the upper and the lower bound (1.5*IQR value is considered) :<br>\n",
    "upper = Q3 + 1.5 * IQR <br>\n",
    "lower = Q1 - 1.5 * IQR <br> "
   ]
  },
  {
   "cell_type": "code",
   "execution_count": null,
   "metadata": {},
   "outputs": [],
   "source": []
  },
  {
   "cell_type": "markdown",
   "metadata": {},
   "source": [
    "- Removing the outliers:\n",
    "For removing the outlier, one must follow the same process of removing an entry from the dataset using its exact position in the dataset because in all the above methods of detecting the outliers end result is the list of all those data items that satisfy the outlier definition according to the method used."
   ]
  },
  {
   "cell_type": "code",
   "execution_count": null,
   "metadata": {},
   "outputs": [],
   "source": []
  }
 ],
 "metadata": {
  "kernelspec": {
   "display_name": ".venv",
   "language": "python",
   "name": "python3"
  },
  "language_info": {
   "codemirror_mode": {
    "name": "ipython",
    "version": 3
   },
   "file_extension": ".py",
   "mimetype": "text/x-python",
   "name": "python",
   "nbconvert_exporter": "python",
   "pygments_lexer": "ipython3",
   "version": "3.13.7"
  },
  "orig_nbformat": 4
 },
 "nbformat": 4,
 "nbformat_minor": 2
}
